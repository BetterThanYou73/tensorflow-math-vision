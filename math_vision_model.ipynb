{
  "cells": [
    {
      "cell_type": "markdown",
      "metadata": {
        "id": "p3s7z-Tn4KnF"
      },
      "source": [
        "# Importing Training Data\n",
        "First we mount our drive as it contains all the training validating and testing data."
      ]
    },
    {
      "cell_type": "code",
      "execution_count": null,
      "metadata": {
        "colab": {
          "base_uri": "https://localhost:8080/"
        },
        "id": "qI80x4Ko4bHN",
        "outputId": "74011595-8252-44ec-d251-c353dbee4c24"
      },
      "outputs": [],
      "source": [
        "from google.colab import drive\n",
        "drive.mount('/content/drive')"
      ]
    },
    {
      "cell_type": "markdown",
      "metadata": {
        "id": "owPvx-qY4oW5"
      },
      "source": [
        "Then we need to change directory to the one where we have our training data stored, in my case its in:\n",
        "> My Drive > math-vision >\n",
        "\n",
        "\n",
        "\n"
      ]
    },
    {
      "cell_type": "code",
      "execution_count": null,
      "metadata": {
        "colab": {
          "base_uri": "https://localhost:8080/"
        },
        "id": "NTx73Um05g28",
        "outputId": "2263fa0a-7c74-4239-c761-017f91c6ccca"
      },
      "outputs": [
        {
          "name": "stdout",
          "output_type": "stream",
          "text": [
            "/content/drive/My Drive/math-vision\n"
          ]
        }
      ],
      "source": [
        "%cd /content/drive/My Drive/math-vision/"
      ]
    },
    {
      "cell_type": "markdown",
      "metadata": {
        "id": "Y_Tfpcd95kp3"
      },
      "source": [
        "Now we need to unzip this file so that we can utilise ImageDataGenerator to load images for training our model."
      ]
    },
    {
      "cell_type": "code",
      "execution_count": null,
      "metadata": {
        "colab": {
          "base_uri": "https://localhost:8080/"
        },
        "collapsed": true,
        "id": "D2GdUNQU5zNW",
        "outputId": "45b197f0-8c57-4514-e532-ef0ba68928a3"
      },
      "outputs": [],
      "source": [
        "!unzip images.zip -d /content/"
      ]
    },
    {
      "cell_type": "markdown",
      "metadata": {
        "id": "GJiYCs_P7zaE"
      },
      "source": [
        "This is a one time only thing if you plan on unzipping this in your google drive."
      ]
    },
    {
      "cell_type": "markdown",
      "metadata": {
        "id": "QoZ7pR1m6ByV"
      },
      "source": [
        "# Importing required modules"
      ]
    },
    {
      "cell_type": "code",
      "execution_count": 55,
      "metadata": {
        "colab": {
          "base_uri": "https://localhost:8080/"
        },
        "id": "6TNiYrulcxBR",
        "outputId": "8eb97ccd-8bd3-48b5-945f-a307cbef47d3"
      },
      "outputs": [
        {
          "name": "stdout",
          "output_type": "stream",
          "text": [
            "Requirement already satisfied: pydot in c:\\users\\manas\\miniconda3\\envs\\tf\\lib\\site-packages (3.0.1)\n",
            "Requirement already satisfied: pyparsing>=3.0.9 in c:\\users\\manas\\miniconda3\\envs\\tf\\lib\\site-packages (from pydot) (3.1.2)\n",
            "Requirement already satisfied: pydotplus in c:\\users\\manas\\miniconda3\\envs\\tf\\lib\\site-packages (2.0.2)\n",
            "Requirement already satisfied: pyparsing>=2.0.1 in c:\\users\\manas\\miniconda3\\envs\\tf\\lib\\site-packages (from pydotplus) (3.1.2)\n",
            "Requirement already satisfied: graphviz in c:\\users\\manas\\miniconda3\\envs\\tf\\lib\\site-packages (0.20.3)\n",
            "Requirement already satisfied: scikit-learn in c:\\users\\manas\\miniconda3\\envs\\tf\\lib\\site-packages (1.5.1)\n",
            "Requirement already satisfied: numpy>=1.19.5 in c:\\users\\manas\\miniconda3\\envs\\tf\\lib\\site-packages (from scikit-learn) (1.26.4)\n",
            "Requirement already satisfied: scipy>=1.6.0 in c:\\users\\manas\\miniconda3\\envs\\tf\\lib\\site-packages (from scikit-learn) (1.13.1)\n",
            "Requirement already satisfied: joblib>=1.2.0 in c:\\users\\manas\\miniconda3\\envs\\tf\\lib\\site-packages (from scikit-learn) (1.4.2)\n",
            "Requirement already satisfied: threadpoolctl>=3.1.0 in c:\\users\\manas\\miniconda3\\envs\\tf\\lib\\site-packages (from scikit-learn) (3.5.0)\n",
            "Requirement already satisfied: tensorflow_addons in c:\\users\\manas\\miniconda3\\envs\\tf\\lib\\site-packages (0.22.0)\n",
            "Requirement already satisfied: typeguard<3.0.0,>=2.7 in c:\\users\\manas\\miniconda3\\envs\\tf\\lib\\site-packages (from tensorflow_addons) (2.13.3)\n",
            "Requirement already satisfied: packaging in c:\\users\\manas\\miniconda3\\envs\\tf\\lib\\site-packages (from tensorflow_addons) (24.1)\n",
            "Requirement already satisfied: opencv-python in c:\\users\\manas\\miniconda3\\envs\\tf\\lib\\site-packages (4.10.0.84)\n",
            "Requirement already satisfied: numpy>=1.17.0 in c:\\users\\manas\\miniconda3\\envs\\tf\\lib\\site-packages (from opencv-python) (1.26.4)\n",
            "Requirement already satisfied: pandas in c:\\users\\manas\\miniconda3\\envs\\tf\\lib\\site-packages (2.2.2)\n",
            "Requirement already satisfied: numpy>=1.22.4 in c:\\users\\manas\\miniconda3\\envs\\tf\\lib\\site-packages (from pandas) (1.26.4)\n",
            "Requirement already satisfied: python-dateutil>=2.8.2 in c:\\users\\manas\\miniconda3\\envs\\tf\\lib\\site-packages (from pandas) (2.9.0)\n",
            "Requirement already satisfied: pytz>=2020.1 in c:\\users\\manas\\miniconda3\\envs\\tf\\lib\\site-packages (from pandas) (2024.1)\n",
            "Requirement already satisfied: tzdata>=2022.7 in c:\\users\\manas\\miniconda3\\envs\\tf\\lib\\site-packages (from pandas) (2024.1)\n",
            "Requirement already satisfied: six>=1.5 in c:\\users\\manas\\miniconda3\\envs\\tf\\lib\\site-packages (from python-dateutil>=2.8.2->pandas) (1.16.0)\n",
            "Requirement already satisfied: matplot in c:\\users\\manas\\miniconda3\\envs\\tf\\lib\\site-packages (0.1.9)\n",
            "Requirement already satisfied: pyloco>=0.0.134 in c:\\users\\manas\\miniconda3\\envs\\tf\\lib\\site-packages (from matplot) (0.0.139)\n",
            "Requirement already satisfied: matplotlib>=3.1.1 in c:\\users\\manas\\miniconda3\\envs\\tf\\lib\\site-packages (from matplot) (3.9.1)\n",
            "Requirement already satisfied: contourpy>=1.0.1 in c:\\users\\manas\\miniconda3\\envs\\tf\\lib\\site-packages (from matplotlib>=3.1.1->matplot) (1.2.1)\n",
            "Requirement already satisfied: cycler>=0.10 in c:\\users\\manas\\miniconda3\\envs\\tf\\lib\\site-packages (from matplotlib>=3.1.1->matplot) (0.12.1)\n",
            "Requirement already satisfied: fonttools>=4.22.0 in c:\\users\\manas\\miniconda3\\envs\\tf\\lib\\site-packages (from matplotlib>=3.1.1->matplot) (4.53.1)\n",
            "Requirement already satisfied: kiwisolver>=1.3.1 in c:\\users\\manas\\miniconda3\\envs\\tf\\lib\\site-packages (from matplotlib>=3.1.1->matplot) (1.4.5)\n",
            "Requirement already satisfied: numpy>=1.23 in c:\\users\\manas\\miniconda3\\envs\\tf\\lib\\site-packages (from matplotlib>=3.1.1->matplot) (1.26.4)\n",
            "Requirement already satisfied: packaging>=20.0 in c:\\users\\manas\\miniconda3\\envs\\tf\\lib\\site-packages (from matplotlib>=3.1.1->matplot) (24.1)\n",
            "Requirement already satisfied: pillow>=8 in c:\\users\\manas\\miniconda3\\envs\\tf\\lib\\site-packages (from matplotlib>=3.1.1->matplot) (10.4.0)\n",
            "Requirement already satisfied: pyparsing>=2.3.1 in c:\\users\\manas\\miniconda3\\envs\\tf\\lib\\site-packages (from matplotlib>=3.1.1->matplot) (3.1.2)\n",
            "Requirement already satisfied: python-dateutil>=2.7 in c:\\users\\manas\\miniconda3\\envs\\tf\\lib\\site-packages (from matplotlib>=3.1.1->matplot) (2.9.0)\n",
            "Requirement already satisfied: importlib-resources>=3.2.0 in c:\\users\\manas\\miniconda3\\envs\\tf\\lib\\site-packages (from matplotlib>=3.1.1->matplot) (6.4.0)\n",
            "Requirement already satisfied: ushlex in c:\\users\\manas\\miniconda3\\envs\\tf\\lib\\site-packages (from pyloco>=0.0.134->matplot) (0.99.1)\n",
            "Requirement already satisfied: websocket-client in c:\\users\\manas\\miniconda3\\envs\\tf\\lib\\site-packages (from pyloco>=0.0.134->matplot) (1.8.0)\n",
            "Requirement already satisfied: twine in c:\\users\\manas\\miniconda3\\envs\\tf\\lib\\site-packages (from pyloco>=0.0.134->matplot) (5.1.1)\n",
            "Requirement already satisfied: typing in c:\\users\\manas\\miniconda3\\envs\\tf\\lib\\site-packages (from pyloco>=0.0.134->matplot) (3.7.4.3)\n",
            "Requirement already satisfied: SimpleWebSocketServer in c:\\users\\manas\\miniconda3\\envs\\tf\\lib\\site-packages (from pyloco>=0.0.134->matplot) (0.1.2)\n",
            "Requirement already satisfied: zipp>=3.1.0 in c:\\users\\manas\\miniconda3\\envs\\tf\\lib\\site-packages (from importlib-resources>=3.2.0->matplotlib>=3.1.1->matplot) (3.19.2)\n",
            "Requirement already satisfied: six>=1.5 in c:\\users\\manas\\miniconda3\\envs\\tf\\lib\\site-packages (from python-dateutil>=2.7->matplotlib>=3.1.1->matplot) (1.16.0)\n",
            "Requirement already satisfied: pkginfo>=1.8.1 in c:\\users\\manas\\miniconda3\\envs\\tf\\lib\\site-packages (from twine->pyloco>=0.0.134->matplot) (1.10.0)\n",
            "Requirement already satisfied: readme-renderer>=35.0 in c:\\users\\manas\\miniconda3\\envs\\tf\\lib\\site-packages (from twine->pyloco>=0.0.134->matplot) (44.0)\n",
            "Requirement already satisfied: requests>=2.20 in c:\\users\\manas\\miniconda3\\envs\\tf\\lib\\site-packages (from twine->pyloco>=0.0.134->matplot) (2.32.3)\n",
            "Requirement already satisfied: requests-toolbelt!=0.9.0,>=0.8.0 in c:\\users\\manas\\miniconda3\\envs\\tf\\lib\\site-packages (from twine->pyloco>=0.0.134->matplot) (1.0.0)\n",
            "Requirement already satisfied: urllib3>=1.26.0 in c:\\users\\manas\\miniconda3\\envs\\tf\\lib\\site-packages (from twine->pyloco>=0.0.134->matplot) (2.2.2)\n",
            "Requirement already satisfied: importlib-metadata>=3.6 in c:\\users\\manas\\miniconda3\\envs\\tf\\lib\\site-packages (from twine->pyloco>=0.0.134->matplot) (8.2.0)\n",
            "Requirement already satisfied: keyring>=15.1 in c:\\users\\manas\\miniconda3\\envs\\tf\\lib\\site-packages (from twine->pyloco>=0.0.134->matplot) (25.2.1)\n",
            "Requirement already satisfied: rfc3986>=1.4.0 in c:\\users\\manas\\miniconda3\\envs\\tf\\lib\\site-packages (from twine->pyloco>=0.0.134->matplot) (2.0.0)\n",
            "Requirement already satisfied: rich>=12.0.0 in c:\\users\\manas\\miniconda3\\envs\\tf\\lib\\site-packages (from twine->pyloco>=0.0.134->matplot) (13.7.1)\n",
            "Requirement already satisfied: jaraco.classes in c:\\users\\manas\\miniconda3\\envs\\tf\\lib\\site-packages (from keyring>=15.1->twine->pyloco>=0.0.134->matplot) (3.4.0)\n",
            "Requirement already satisfied: jaraco.functools in c:\\users\\manas\\miniconda3\\envs\\tf\\lib\\site-packages (from keyring>=15.1->twine->pyloco>=0.0.134->matplot) (4.0.1)\n",
            "Requirement already satisfied: jaraco.context in c:\\users\\manas\\miniconda3\\envs\\tf\\lib\\site-packages (from keyring>=15.1->twine->pyloco>=0.0.134->matplot) (5.3.0)\n",
            "Requirement already satisfied: pywin32-ctypes>=0.2.0 in c:\\users\\manas\\miniconda3\\envs\\tf\\lib\\site-packages (from keyring>=15.1->twine->pyloco>=0.0.134->matplot) (0.2.2)\n",
            "Requirement already satisfied: nh3>=0.2.14 in c:\\users\\manas\\miniconda3\\envs\\tf\\lib\\site-packages (from readme-renderer>=35.0->twine->pyloco>=0.0.134->matplot) (0.2.18)\n",
            "Requirement already satisfied: docutils>=0.21.2 in c:\\users\\manas\\miniconda3\\envs\\tf\\lib\\site-packages (from readme-renderer>=35.0->twine->pyloco>=0.0.134->matplot) (0.21.2)\n",
            "Requirement already satisfied: Pygments>=2.5.1 in c:\\users\\manas\\miniconda3\\envs\\tf\\lib\\site-packages (from readme-renderer>=35.0->twine->pyloco>=0.0.134->matplot) (2.18.0)\n",
            "Requirement already satisfied: charset-normalizer<4,>=2 in c:\\users\\manas\\miniconda3\\envs\\tf\\lib\\site-packages (from requests>=2.20->twine->pyloco>=0.0.134->matplot) (3.3.2)\n",
            "Requirement already satisfied: idna<4,>=2.5 in c:\\users\\manas\\miniconda3\\envs\\tf\\lib\\site-packages (from requests>=2.20->twine->pyloco>=0.0.134->matplot) (3.7)\n",
            "Requirement already satisfied: certifi>=2017.4.17 in c:\\users\\manas\\miniconda3\\envs\\tf\\lib\\site-packages (from requests>=2.20->twine->pyloco>=0.0.134->matplot) (2024.7.4)\n",
            "Requirement already satisfied: markdown-it-py>=2.2.0 in c:\\users\\manas\\miniconda3\\envs\\tf\\lib\\site-packages (from rich>=12.0.0->twine->pyloco>=0.0.134->matplot) (3.0.0)\n",
            "Requirement already satisfied: mdurl~=0.1 in c:\\users\\manas\\miniconda3\\envs\\tf\\lib\\site-packages (from markdown-it-py>=2.2.0->rich>=12.0.0->twine->pyloco>=0.0.134->matplot) (0.1.2)\n",
            "Requirement already satisfied: more-itertools in c:\\users\\manas\\miniconda3\\envs\\tf\\lib\\site-packages (from jaraco.classes->keyring>=15.1->twine->pyloco>=0.0.134->matplot) (10.3.0)\n",
            "Requirement already satisfied: backports.tarfile in c:\\users\\manas\\miniconda3\\envs\\tf\\lib\\site-packages (from jaraco.context->keyring>=15.1->twine->pyloco>=0.0.134->matplot) (1.2.0)\n",
            "Requirement already satisfied: tqdm in c:\\users\\manas\\miniconda3\\envs\\tf\\lib\\site-packages (4.66.4)\n",
            "Requirement already satisfied: colorama in c:\\users\\manas\\miniconda3\\envs\\tf\\lib\\site-packages (from tqdm) (0.4.6)\n",
            "Requirement already satisfied: Pillow in c:\\users\\manas\\miniconda3\\envs\\tf\\lib\\site-packages (10.4.0)\n",
            "Requirement already satisfied: scipy in c:\\users\\manas\\miniconda3\\envs\\tf\\lib\\site-packages (1.13.1)\n",
            "Requirement already satisfied: numpy<2.3,>=1.22.4 in c:\\users\\manas\\miniconda3\\envs\\tf\\lib\\site-packages (from scipy) (1.26.4)\n"
          ]
        }
      ],
      "source": [
        "!pip install scikit-learn\n",
        "!pip install tensorflow_addons\n",
        "!pip install opencv-python\n",
        "!pip install pandas\n",
        "!pip install matplot\n",
        "!pip install tqdm\n",
        "!pip install Pillow\n",
        "!pip install scipy"
      ]
    },
    {
      "cell_type": "code",
      "execution_count": 1,
      "metadata": {
        "colab": {
          "base_uri": "https://localhost:8080/"
        },
        "id": "pqs4tV6b3ffI",
        "outputId": "21488d25-2ffe-4242-a7f4-e20adeac61c6"
      },
      "outputs": [],
      "source": [
        "import os\n",
        "import cv2\n",
        "import random\n",
        "import numpy as np\n",
        "import pandas as pd\n",
        "import tensorflow as tf\n",
        "from keras import backend\n",
        "from tensorflow import keras\n",
        "from PIL import Image,ImageOps\n",
        "import matplotlib.pyplot as plt\n",
        "from keras.optimizers import Adam\n",
        "from sklearn.metrics import accuracy_score\n",
        "from tensorflow.keras import mixed_precision\n",
        "from tensorflow.keras.utils import plot_model\n",
        "from tensorflow.keras.models import load_model\n",
        "from keras.preprocessing.image import ImageDataGenerator\n",
        "from tensorflow.keras.preprocessing.image import load_img, img_to_array\n",
        "from tensorflow.keras.callbacks import EarlyStopping, ModelCheckpoint, CSVLogger, ReduceLROnPlateau"
      ]
    },
    {
      "cell_type": "markdown",
      "metadata": {
        "id": "W1ghaLSXqo_a"
      },
      "source": [
        "Setting memory growth to max."
      ]
    },
    {
      "cell_type": "code",
      "execution_count": 2,
      "metadata": {
        "colab": {
          "base_uri": "https://localhost:8080/"
        },
        "id": "wWJkcM63qpe1",
        "outputId": "50c1ab94-3a10-41d3-d276-30f41b9338a3"
      },
      "outputs": [
        {
          "name": "stdout",
          "output_type": "stream",
          "text": [
            "1 Physical GPUs, 1 Logical GPUs\n"
          ]
        }
      ],
      "source": [
        "tf.config.threading.set_inter_op_parallelism_threads(20)\n",
        "tf.config.threading.set_intra_op_parallelism_threads(20)\n",
        "# Check GPU availability\n",
        "gpus = tf.config.experimental.list_physical_devices('GPU')\n",
        "if gpus:\n",
        "    try:\n",
        "        # Currently, memory growth needs to be the same across GPUs\n",
        "        for gpu in gpus:\n",
        "            tf.config.experimental.set_memory_growth(gpu, True)\n",
        "        logical_gpus = tf.config.experimental.list_logical_devices('GPU')\n",
        "        print(len(gpus), \"Physical GPUs,\", len(logical_gpus), \"Logical GPUs\")\n",
        "    except RuntimeError as e:\n",
        "        # Memory growth must be set before GPUs have been initialized\n",
        "        print(e)\n",
        "\n"
      ]
    },
    {
      "cell_type": "markdown",
      "metadata": {
        "id": "arGq9X84zslK"
      },
      "source": [
        "# Initializing Paths\n",
        "This will help us initialize paths to our data."
      ]
    },
    {
      "cell_type": "code",
      "execution_count": 5,
      "metadata": {
        "id": "0m4sGrUxzsVC"
      },
      "outputs": [],
      "source": [
        "# Base Path\n",
        "BASE_DIR = 'images/'\n",
        "\n",
        "# Dir to our Base Path\n",
        "DATASET = os.path.join(BASE_DIR, 'dataset/')\n",
        "\n",
        "# Fine tune Dir\n",
        "FINE_DATASET = os.path.join(BASE_DIR, 'fine_tune_dataset/')\n"
      ]
    },
    {
      "cell_type": "markdown",
      "metadata": {
        "id": "wJp1J91IKQys"
      },
      "source": [
        "Validating our data structure."
      ]
    },
    {
      "cell_type": "code",
      "execution_count": 4,
      "metadata": {
        "colab": {
          "base_uri": "https://localhost:8080/"
        },
        "id": "fQ34G1zGKNR7",
        "outputId": "78f90be5-f913-4d90-e983-41d2bb73dc53"
      },
      "outputs": [
        {
          "name": "stdout",
          "output_type": "stream",
          "text": [
            "Training directory structure:\n",
            "Root: images/dataset/, Number of files: 0\n",
            "Root: images/dataset/100, Number of files: 11069\n",
            "Root: images/dataset/101, Number of files: 25523\n",
            "Root: images/dataset/102, Number of files: 3453\n",
            "Root: images/dataset/103, Number of files: 4579\n",
            "Root: images/dataset/104, Number of files: 9630\n",
            "Root: images/dataset/105, Number of files: 3617\n",
            "Root: images/dataset/106, Number of files: 2788\n",
            "Root: images/dataset/107, Number of files: 3383\n",
            "Root: images/dataset/108, Number of files: 16210\n",
            "Root: images/dataset/109, Number of files: 3537\n",
            "Root: images/dataset/110, Number of files: 12310\n",
            "Root: images/dataset/111, Number of files: 3641\n",
            "Root: images/dataset/112, Number of files: 3340\n",
            "Root: images/dataset/113, Number of files: 3886\n",
            "Root: images/dataset/114, Number of files: 14997\n",
            "Root: images/dataset/115, Number of files: 3591\n",
            "Root: images/dataset/116, Number of files: 19154\n",
            "Root: images/dataset/117, Number of files: 3722\n",
            "Root: images/dataset/118, Number of files: 3802\n",
            "Root: images/dataset/119, Number of files: 3589\n",
            "Root: images/dataset/120, Number of files: 3714\n",
            "Root: images/dataset/121, Number of files: 3257\n",
            "Root: images/dataset/122, Number of files: 3617\n",
            "Root: images/dataset/123, Number of files: 3292\n",
            "Root: images/dataset/124, Number of files: 3292\n",
            "Root: images/dataset/125, Number of files: 3292\n",
            "Root: images/dataset/33, Number of files: 3292\n",
            "Root: images/dataset/35, Number of files: 3292\n",
            "Root: images/dataset/36, Number of files: 3292\n",
            "Root: images/dataset/37, Number of files: 3292\n",
            "Root: images/dataset/38, Number of files: 892\n",
            "Root: images/dataset/40, Number of files: 3292\n",
            "Root: images/dataset/41, Number of files: 3292\n",
            "Root: images/dataset/42, Number of files: 3292\n",
            "Root: images/dataset/43, Number of files: 3292\n",
            "Root: images/dataset/44, Number of files: 2400\n",
            "Root: images/dataset/45, Number of files: 3292\n",
            "Root: images/dataset/46, Number of files: 3292\n",
            "Root: images/dataset/47, Number of files: 3292\n",
            "Root: images/dataset/48, Number of files: 35477\n",
            "Root: images/dataset/49, Number of files: 39266\n",
            "Root: images/dataset/50, Number of files: 35095\n",
            "Root: images/dataset/51, Number of files: 36035\n",
            "Root: images/dataset/52, Number of files: 34427\n",
            "Root: images/dataset/53, Number of files: 32308\n",
            "Root: images/dataset/54, Number of files: 35124\n",
            "Root: images/dataset/55, Number of files: 36646\n",
            "Root: images/dataset/56, Number of files: 34838\n",
            "Root: images/dataset/57, Number of files: 34739\n",
            "Root: images/dataset/58, Number of files: 892\n",
            "Root: images/dataset/59, Number of files: 892\n",
            "Root: images/dataset/60, Number of files: 892\n",
            "Root: images/dataset/61, Number of files: 3292\n",
            "Root: images/dataset/62, Number of files: 892\n",
            "Root: images/dataset/63, Number of files: 892\n",
            "Root: images/dataset/64, Number of files: 892\n",
            "Root: images/dataset/65, Number of files: 7287\n",
            "Root: images/dataset/66, Number of files: 4770\n",
            "Root: images/dataset/67, Number of files: 10986\n",
            "Root: images/dataset/68, Number of files: 5454\n",
            "Root: images/dataset/69, Number of files: 5826\n",
            "Root: images/dataset/70, Number of files: 10074\n",
            "Root: images/dataset/71, Number of files: 3409\n",
            "Root: images/dataset/72, Number of files: 4044\n",
            "Root: images/dataset/73, Number of files: 12838\n",
            "Root: images/dataset/74, Number of files: 4654\n",
            "Root: images/dataset/75, Number of files: 3360\n",
            "Root: images/dataset/76, Number of files: 5968\n",
            "Root: images/dataset/77, Number of files: 9894\n",
            "Root: images/dataset/78, Number of files: 9129\n",
            "Root: images/dataset/79, Number of files: 25875\n",
            "Root: images/dataset/80, Number of files: 9239\n",
            "Root: images/dataset/81, Number of files: 3497\n",
            "Root: images/dataset/82, Number of files: 5965\n",
            "Root: images/dataset/83, Number of files: 21656\n",
            "Root: images/dataset/84, Number of files: 10712\n",
            "Root: images/dataset/85, Number of files: 13494\n",
            "Root: images/dataset/86, Number of files: 5529\n",
            "Root: images/dataset/87, Number of files: 5587\n",
            "Root: images/dataset/88, Number of files: 3663\n",
            "Root: images/dataset/89, Number of files: 5635\n",
            "Root: images/dataset/90, Number of files: 3593\n",
            "Root: images/dataset/91, Number of files: 3292\n",
            "Root: images/dataset/93, Number of files: 3292\n",
            "Root: images/dataset/94, Number of files: 3292\n",
            "Root: images/dataset/95, Number of files: 3292\n",
            "Root: images/dataset/97, Number of files: 10925\n",
            "Root: images/dataset/98, Number of files: 6051\n",
            "Root: images/dataset/99, Number of files: 3746\n"
          ]
        }
      ],
      "source": [
        "# Verify the directory structure\n",
        "def verify_directory_structure(base_dir):\n",
        "    file_tally = 0\n",
        "    for root, dirs, files in os.walk(base_dir):\n",
        "        print(f'Root: {root}, Number of files: {len(files)}')\n",
        "        file_tally += len(files)\n",
        "    return file_tally\n",
        "\n",
        "# Verify the training, validation, and testing directories\n",
        "print('Training directory structure:')\n",
        "data = verify_directory_structure(DATASET)"
      ]
    },
    {
      "cell_type": "markdown",
      "metadata": {
        "id": "KJLYQU0T5T30"
      },
      "source": [
        "Let's see how much data do we possess."
      ]
    },
    {
      "cell_type": "code",
      "execution_count": 5,
      "metadata": {
        "colab": {
          "base_uri": "https://localhost:8080/"
        },
        "id": "w0cD_iYj5aBw",
        "outputId": "9956b18a-62f2-4bda-933d-09ce835619ee"
      },
      "outputs": [
        {
          "name": "stdout",
          "output_type": "stream",
          "text": [
            "Total number of images in the dataset: 824416\n"
          ]
        }
      ],
      "source": [
        "\n",
        "print('Total number of images in the dataset:', data)\n"
      ]
    },
    {
      "cell_type": "markdown",
      "metadata": {
        "id": "ZpXdyUY55wbO"
      },
      "source": [
        "The data I managed to gather is following:\n",
        "\n",
        "> Total number of training images: 824,416\n",
        "\n",
        "We will however split the total images in dataset directory for training and validation sets."
      ]
    },
    {
      "cell_type": "markdown",
      "metadata": {},
      "source": [
        "This data above comprises of EMNIST BY CLASS and special characters that I managed to synthetically generate."
      ]
    },
    {
      "cell_type": "markdown",
      "metadata": {},
      "source": [
        "Let's now look at our fine tuning dataset that I managed to gather from kaggle."
      ]
    },
    {
      "cell_type": "code",
      "execution_count": 6,
      "metadata": {},
      "outputs": [
        {
          "name": "stdout",
          "output_type": "stream",
          "text": [
            "Fine tuning directory structure:\n",
            "Root: images/fine_tune_dataset/, Number of files: 0\n",
            "Root: images/fine_tune_dataset/100, Number of files: 1074\n",
            "Root: images/fine_tune_dataset/101, Number of files: 2962\n",
            "Root: images/fine_tune_dataset/102, Number of files: 608\n",
            "Root: images/fine_tune_dataset/103, Number of files: 760\n",
            "Root: images/fine_tune_dataset/104, Number of files: 990\n",
            "Root: images/fine_tune_dataset/105, Number of files: 2035\n",
            "Root: images/fine_tune_dataset/106, Number of files: 427\n",
            "Root: images/fine_tune_dataset/107, Number of files: 557\n",
            "Root: images/fine_tune_dataset/108, Number of files: 1415\n",
            "Root: images/fine_tune_dataset/109, Number of files: 879\n",
            "Root: images/fine_tune_dataset/110, Number of files: 1906\n",
            "Root: images/fine_tune_dataset/111, Number of files: 2048\n",
            "Root: images/fine_tune_dataset/112, Number of files: 786\n",
            "Root: images/fine_tune_dataset/113, Number of files: 427\n",
            "Root: images/fine_tune_dataset/114, Number of files: 1708\n",
            "Root: images/fine_tune_dataset/115, Number of files: 1557\n",
            "Root: images/fine_tune_dataset/116, Number of files: 1781\n",
            "Root: images/fine_tune_dataset/117, Number of files: 1319\n",
            "Root: images/fine_tune_dataset/118, Number of files: 555\n",
            "Root: images/fine_tune_dataset/119, Number of files: 680\n",
            "Root: images/fine_tune_dataset/120, Number of files: 463\n",
            "Root: images/fine_tune_dataset/121, Number of files: 680\n",
            "Root: images/fine_tune_dataset/122, Number of files: 505\n",
            "Root: images/fine_tune_dataset/123, Number of files: 1324\n",
            "Root: images/fine_tune_dataset/124, Number of files: 977\n",
            "Root: images/fine_tune_dataset/125, Number of files: 1113\n",
            "Root: images/fine_tune_dataset/33, Number of files: 1361\n",
            "Root: images/fine_tune_dataset/35, Number of files: 1367\n",
            "Root: images/fine_tune_dataset/36, Number of files: 1378\n",
            "Root: images/fine_tune_dataset/37, Number of files: 1288\n",
            "Root: images/fine_tune_dataset/38, Number of files: 844\n",
            "Root: images/fine_tune_dataset/40, Number of files: 1288\n",
            "Root: images/fine_tune_dataset/41, Number of files: 1275\n",
            "Root: images/fine_tune_dataset/42, Number of files: 1299\n",
            "Root: images/fine_tune_dataset/43, Number of files: 1659\n",
            "Root: images/fine_tune_dataset/44, Number of files: 1185\n",
            "Root: images/fine_tune_dataset/45, Number of files: 1079\n",
            "Root: images/fine_tune_dataset/46, Number of files: 1538\n",
            "Root: images/fine_tune_dataset/47, Number of files: 1118\n",
            "Root: images/fine_tune_dataset/48, Number of files: 2664\n",
            "Root: images/fine_tune_dataset/49, Number of files: 2791\n",
            "Root: images/fine_tune_dataset/50, Number of files: 2564\n",
            "Root: images/fine_tune_dataset/51, Number of files: 2671\n",
            "Root: images/fine_tune_dataset/52, Number of files: 2530\n",
            "Root: images/fine_tune_dataset/53, Number of files: 2343\n",
            "Root: images/fine_tune_dataset/54, Number of files: 2503\n",
            "Root: images/fine_tune_dataset/55, Number of files: 2679\n",
            "Root: images/fine_tune_dataset/56, Number of files: 2544\n",
            "Root: images/fine_tune_dataset/57, Number of files: 2617\n",
            "Root: images/fine_tune_dataset/58, Number of files: 1165\n",
            "Root: images/fine_tune_dataset/59, Number of files: 1101\n",
            "Root: images/fine_tune_dataset/60, Number of files: 1060\n",
            "Root: images/fine_tune_dataset/61, Number of files: 1357\n",
            "Root: images/fine_tune_dataset/62, Number of files: 1054\n",
            "Root: images/fine_tune_dataset/63, Number of files: 1086\n",
            "Root: images/fine_tune_dataset/64, Number of files: 975\n",
            "Root: images/fine_tune_dataset/65, Number of files: 1923\n",
            "Root: images/fine_tune_dataset/66, Number of files: 1505\n",
            "Root: images/fine_tune_dataset/67, Number of files: 1644\n",
            "Root: images/fine_tune_dataset/68, Number of files: 1553\n",
            "Root: images/fine_tune_dataset/69, Number of files: 2171\n",
            "Root: images/fine_tune_dataset/70, Number of files: 1468\n",
            "Root: images/fine_tune_dataset/71, Number of files: 1443\n",
            "Root: images/fine_tune_dataset/72, Number of files: 1543\n",
            "Root: images/fine_tune_dataset/73, Number of files: 1888\n",
            "Root: images/fine_tune_dataset/74, Number of files: 1470\n",
            "Root: images/fine_tune_dataset/75, Number of files: 1504\n",
            "Root: images/fine_tune_dataset/76, Number of files: 1692\n",
            "Root: images/fine_tune_dataset/77, Number of files: 1484\n",
            "Root: images/fine_tune_dataset/78, Number of files: 1683\n",
            "Root: images/fine_tune_dataset/79, Number of files: 2097\n",
            "Root: images/fine_tune_dataset/80, Number of files: 1605\n",
            "Root: images/fine_tune_dataset/81, Number of files: 1409\n",
            "Root: images/fine_tune_dataset/82, Number of files: 1811\n",
            "Root: images/fine_tune_dataset/83, Number of files: 1786\n",
            "Root: images/fine_tune_dataset/84, Number of files: 1729\n",
            "Root: images/fine_tune_dataset/85, Number of files: 1458\n",
            "Root: images/fine_tune_dataset/86, Number of files: 1405\n",
            "Root: images/fine_tune_dataset/87, Number of files: 1521\n",
            "Root: images/fine_tune_dataset/88, Number of files: 1366\n",
            "Root: images/fine_tune_dataset/89, Number of files: 1456\n",
            "Root: images/fine_tune_dataset/90, Number of files: 1451\n",
            "Root: images/fine_tune_dataset/91, Number of files: 1179\n",
            "Root: images/fine_tune_dataset/93, Number of files: 1220\n",
            "Root: images/fine_tune_dataset/94, Number of files: 1188\n",
            "Root: images/fine_tune_dataset/95, Number of files: 1178\n",
            "Root: images/fine_tune_dataset/97, Number of files: 2219\n",
            "Root: images/fine_tune_dataset/98, Number of files: 624\n",
            "Root: images/fine_tune_dataset/99, Number of files: 880\n",
            "Root: images/fine_tune_dataset/train, Number of files: 0\n"
          ]
        }
      ],
      "source": [
        "print('Fine tuning directory structure:')\n",
        "data = verify_directory_structure(FINE_DATASET)"
      ]
    },
    {
      "cell_type": "code",
      "execution_count": 7,
      "metadata": {},
      "outputs": [
        {
          "name": "stdout",
          "output_type": "stream",
          "text": [
            "Total number of images in the fine tuning dataset: 130472\n"
          ]
        }
      ],
      "source": [
        "print('Total number of images in the fine tuning dataset:', data)"
      ]
    },
    {
      "cell_type": "markdown",
      "metadata": {},
      "source": [
        "The data I managed to gather for fine tuning:\n",
        "\n",
        "> Total number of training images: 130,472\n",
        "\n",
        "Credit goes to various handwriting datasets on kaggle coversing alphabets and mathematical symbols."
      ]
    },
    {
      "cell_type": "markdown",
      "metadata": {},
      "source": [
        "# Character Mapping\n"
      ]
    },
    {
      "cell_type": "code",
      "execution_count": 6,
      "metadata": {},
      "outputs": [],
      "source": [
        "def ascii_convert(ascii_code):\n",
        "    return chr(int(ascii_code))"
      ]
    },
    {
      "cell_type": "markdown",
      "metadata": {},
      "source": [
        "Our goal is to unmap characters like so\n",
        "\n",
        "```\n",
        "# Example usage\n",
        "if mapping => [1, 27, 53]\n",
        "then 1' -> 'a' , 27 -> 'A' ,  53 -> '1'\n",
        "```\n"
      ]
    },
    {
      "cell_type": "markdown",
      "metadata": {},
      "source": [
        "We need a decoder to translate it back to english."
      ]
    },
    {
      "cell_type": "code",
      "execution_count": 7,
      "metadata": {},
      "outputs": [],
      "source": [
        "def decode_label(encoded_label, char_to_num):\n",
        "    \"\"\"\n",
        "    Decodes a single encoded label to its corresponding character.\n",
        "    \"\"\"\n",
        "    num_to_char = {v: k for k, v in char_to_num.items()}\n",
        "    return num_to_char[encoded_label]"
      ]
    },
    {
      "cell_type": "markdown",
      "metadata": {
        "id": "ri3li9E87AwF"
      },
      "source": [
        "# Initializing Data Provider"
      ]
    },
    {
      "cell_type": "markdown",
      "metadata": {},
      "source": [
        "Lets define parameters for our model training."
      ]
    },
    {
      "cell_type": "code",
      "execution_count": 3,
      "metadata": {},
      "outputs": [],
      "source": [
        "# Define your parameters\n",
        "\n",
        "BATCH_SIZE = 64\n",
        "\n",
        "TARGET_SIZE = (140,140)\n",
        "\n",
        "VAL_SPLIT = 0.20"
      ]
    },
    {
      "cell_type": "markdown",
      "metadata": {
        "id": "XJe39DU7NpSR"
      },
      "source": [
        "First we need to define an augmentor that we will utilise in our custom data provider."
      ]
    },
    {
      "cell_type": "code",
      "execution_count": 8,
      "metadata": {},
      "outputs": [],
      "source": [
        "# training data\n",
        "\n",
        "datagen = ImageDataGenerator(\n",
        "    rescale=1.0/255.0,\n",
        "    validation_split=VAL_SPLIT,\n",
        "    rotation_range=8,\n",
        "    width_shift_range=0.12,\n",
        "    height_shift_range=0.05,\n",
        "    shear_range=2,\n",
        "    fill_mode='nearest',\n",
        "    brightness_range=(0.9,1.3),\n",
        ")\n",
        "\n",
        "val_datagen = ImageDataGenerator(rescale=1./255,\n",
        "                                 validation_split=VAL_SPLIT,)"
      ]
    },
    {
      "cell_type": "markdown",
      "metadata": {
        "id": "MPQpxToPBnpu"
      },
      "source": [
        "Creating training, testing and validation generators."
      ]
    },
    {
      "cell_type": "code",
      "execution_count": 9,
      "metadata": {
        "id": "lvMe4i7gBovY"
      },
      "outputs": [
        {
          "name": "stdout",
          "output_type": "stream",
          "text": [
            "Found 659570 images belonging to 89 classes.\n",
            "Found 164846 images belonging to 89 classes.\n",
            "Found 104415 images belonging to 89 classes.\n",
            "Found 26057 images belonging to 89 classes.\n"
          ]
        }
      ],
      "source": [
        "# Create the generator\n",
        "\n",
        "train_generator = datagen.flow_from_directory(\n",
        "    DATASET,\n",
        "    target_size=TARGET_SIZE,\n",
        "    batch_size=BATCH_SIZE,\n",
        "    class_mode='categorical', \n",
        "    color_mode='grayscale',\n",
        "    subset='training', # Set as training data\n",
        ")\n",
        "\n",
        "# Create a validation generator\n",
        "validation_generator= val_datagen.flow_from_directory(\n",
        "    DATASET,\n",
        "    target_size=TARGET_SIZE,\n",
        "    batch_size=BATCH_SIZE,\n",
        "    class_mode='categorical',  \n",
        "    color_mode='grayscale',\n",
        "    subset='validation' # Set as validation data\n",
        ")\n",
        "\n",
        "# Create a training generator\n",
        "fine_train_generator = datagen.flow_from_directory(\n",
        "    FINE_DATASET,\n",
        "    target_size=TARGET_SIZE,\n",
        "    batch_size=BATCH_SIZE,\n",
        "    class_mode='categorical', \n",
        "    color_mode='grayscale',\n",
        "    subset='training', # Set as training data\n",
        ")\n",
        "\n",
        "# Create a validation generator\n",
        "fine_validation_generator = val_datagen.flow_from_directory(\n",
        "    FINE_DATASET,\n",
        "    target_size=TARGET_SIZE,\n",
        "    batch_size=BATCH_SIZE,\n",
        "    class_mode='categorical',  \n",
        "    color_mode='grayscale',\n",
        "    subset='validation' # Set as validation data\n",
        ")\n",
        "\n",
        "\n",
        "char_to_num = fine_train_generator.class_indices"
      ]
    },
    {
      "cell_type": "markdown",
      "metadata": {},
      "source": [
        "Let's look at all the classes."
      ]
    },
    {
      "cell_type": "code",
      "execution_count": 27,
      "metadata": {},
      "outputs": [
        {
          "name": "stdout",
          "output_type": "stream",
          "text": [
            "Class rank 1: ! (33)\n",
            "Class rank 2: # (35)\n",
            "Class rank 3: $ (36)\n",
            "Class rank 4: % (37)\n",
            "Class rank 5: & (38)\n",
            "Class rank 6: ( (40)\n",
            "Class rank 7: ) (41)\n",
            "Class rank 8: * (42)\n",
            "Class rank 9: + (43)\n",
            "Class rank 10: , (44)\n",
            "Class rank 11: - (45)\n",
            "Class rank 12: . (46)\n",
            "Class rank 13: / (47)\n",
            "Class rank 14: 0 (48)\n",
            "Class rank 15: 1 (49)\n",
            "Class rank 16: 2 (50)\n",
            "Class rank 17: 3 (51)\n",
            "Class rank 18: 4 (52)\n",
            "Class rank 19: 5 (53)\n",
            "Class rank 20: 6 (54)\n",
            "Class rank 21: 7 (55)\n",
            "Class rank 22: 8 (56)\n",
            "Class rank 23: 9 (57)\n",
            "Class rank 24: : (58)\n",
            "Class rank 25: ; (59)\n",
            "Class rank 26: < (60)\n",
            "Class rank 27: = (61)\n",
            "Class rank 28: > (62)\n",
            "Class rank 29: ? (63)\n",
            "Class rank 30: @ (64)\n",
            "Class rank 31: A (65)\n",
            "Class rank 32: B (66)\n",
            "Class rank 33: C (67)\n",
            "Class rank 34: D (68)\n",
            "Class rank 35: E (69)\n",
            "Class rank 36: F (70)\n",
            "Class rank 37: G (71)\n",
            "Class rank 38: H (72)\n",
            "Class rank 39: I (73)\n",
            "Class rank 40: J (74)\n",
            "Class rank 41: K (75)\n",
            "Class rank 42: L (76)\n",
            "Class rank 43: M (77)\n",
            "Class rank 44: N (78)\n",
            "Class rank 45: O (79)\n",
            "Class rank 46: P (80)\n",
            "Class rank 47: Q (81)\n",
            "Class rank 48: R (82)\n",
            "Class rank 49: S (83)\n",
            "Class rank 50: T (84)\n",
            "Class rank 51: U (85)\n",
            "Class rank 52: V (86)\n",
            "Class rank 53: W (87)\n",
            "Class rank 54: X (88)\n",
            "Class rank 55: Y (89)\n",
            "Class rank 56: Z (90)\n",
            "Class rank 57: [ (91)\n",
            "Class rank 58: ] (93)\n",
            "Class rank 59: ^ (94)\n",
            "Class rank 60: _ (95)\n",
            "Class rank 61: a (97)\n",
            "Class rank 62: b (98)\n",
            "Class rank 63: c (99)\n",
            "Class rank 64: d (100)\n",
            "Class rank 65: e (101)\n",
            "Class rank 66: f (102)\n",
            "Class rank 67: g (103)\n",
            "Class rank 68: h (104)\n",
            "Class rank 69: i (105)\n",
            "Class rank 70: j (106)\n",
            "Class rank 71: k (107)\n",
            "Class rank 72: l (108)\n",
            "Class rank 73: m (109)\n",
            "Class rank 74: n (110)\n",
            "Class rank 75: o (111)\n",
            "Class rank 76: p (112)\n",
            "Class rank 77: q (113)\n",
            "Class rank 78: r (114)\n",
            "Class rank 79: s (115)\n",
            "Class rank 80: t (116)\n",
            "Class rank 81: u (117)\n",
            "Class rank 82: v (118)\n",
            "Class rank 83: w (119)\n",
            "Class rank 84: x (120)\n",
            "Class rank 85: y (121)\n",
            "Class rank 86: z (122)\n",
            "Class rank 87: { (123)\n",
            "Class rank 88: | (124)\n",
            "Class rank 89: } (125)\n"
          ]
        }
      ],
      "source": [
        "class_order = 1\n",
        "classes = list(char_to_num.keys())\n",
        "classes = list(int(i) for i in classes)\n",
        "classes.sort()\n",
        "for ascii_code in classes:\n",
        "    print(f'Class rank {class_order}: {ascii_convert(ascii_code)} ({ascii_code})')\n",
        "    class_order += 1"
      ]
    },
    {
      "cell_type": "markdown",
      "metadata": {
        "id": "SIdnglpxBpSp"
      },
      "source": [
        "Debugging our custom generator."
      ]
    },
    {
      "cell_type": "code",
      "execution_count": 11,
      "metadata": {
        "colab": {
          "base_uri": "https://localhost:8080/",
          "height": 1000
        },
        "id": "y9UEwWgrBpnB",
        "outputId": "ecf65546-bc44-4627-cd54-60a11946640c"
      },
      "outputs": [
        {
          "name": "stdout",
          "output_type": "stream",
          "text": [
            "Batch shape: (64, 140, 140, 1)\n",
            "Labels shape: (64, 89)\n",
            "Labels: [68 45 86 43  9 77 24 44 44  1 16 42 38 51 72 58 44 78 44 44 19 57 63 11\n",
            " 41  3 42 77 34 60 47 34 10 57 23 81 52 74 25 54 12 73 63 82 52 67  1 66\n",
            "  1  5 40 24 70 40 79  3 46 67 47 65 76 73 57 42]\n"
          ]
        },
        {
          "data": {
            "image/png": "[encoded data removed]",
            "text/plain": [
              "<Figure size 500x500 with 4 Axes>"
            ]
          },
          "metadata": {},
          "output_type": "display_data"
        },
        {
          "name": "stdout",
          "output_type": "stream",
          "text": [
            "Batch shape: (64, 140, 140, 1)\n",
            "Labels shape: (64, 89)\n",
            "Labels: [ 0 43 81 47 29 72 44 64 31 73 53  1 64 57 48 15 26 26  6 76 59 10 50 72\n",
            " 31 59 69 26  5 42 55 35 17 30 79 25 86 14 62 27 84 51 86  4 43 78  1 63\n",
            " 55 60 63 51 43 85 57  0 88 47 16 59 40  5 84 60]\n"
          ]
        },
        {
          "data": {
            "image/png": "[encoded data removed]",
            "text/plain": [
              "<Figure size 500x500 with 4 Axes>"
            ]
          },
          "metadata": {},
          "output_type": "display_data"
        },
        {
          "name": "stdout",
          "output_type": "stream",
          "text": [
            "Batch shape: (64, 140, 140, 1)\n",
            "Labels shape: (64, 89)\n",
            "Labels: [32  1  4 62 45 10 39 10 86 46 47 77 56 14 70 44 46 72 61 16 44 64 44 70\n",
            "  9 75  1 47 17  1 68 40 39 57 43 42 41 59 74 43 85 18 70 86 69  1 45  1\n",
            "  4 43 38 48 68  2 45 36 45  7 10 48 43 80 38 70]\n"
          ]
        },
        {
          "data": {
            "image/png": "[encoded data removed]",
            "text/plain": [
              "<Figure size 500x500 with 4 Axes>"
            ]
          },
          "metadata": {},
          "output_type": "display_data"
        },
        {
          "name": "stdout",
          "output_type": "stream",
          "text": [
            "Batch shape: (64, 140, 140, 1)\n",
            "Labels shape: (64, 89)\n",
            "Labels: [71  5 42 43 25 58 52 13 41 71 47 75 23 43 20 74 71 39 70 79 68 42 51 39\n",
            " 74 75 10 70 43 45 41 43 59 42 42 47 87 45 43 69 85 47 10  4 76 46 39 45\n",
            " 41 75 48 74 10 74 47 48 44 42 42 14 25  0 40 73]\n"
          ]
        },
        {
          "data": {
            "image/png": "[encoded data removed]",
            "text/plain": [
              "<Figure size 500x500 with 4 Axes>"
            ]
          },
          "metadata": {},
          "output_type": "display_data"
        }
      ],
      "source": [
        "# Debugging generator output\n",
        "def debug_batch(generator, map):\n",
        "    \"\"\"\n",
        "    Extracts a batch of images from the generator, prints batch information,\n",
        "    and displays 4 sample images.\n",
        "    \"\"\"\n",
        "    # Get a batch of images and labels\n",
        "    batch = next(generator)\n",
        "    images, labels = batch\n",
        "    \n",
        "    # Print batch information\n",
        "    print(f\"Batch shape: {images.shape}\")\n",
        "    print(f\"Labels shape: {labels.shape}\")\n",
        "    print(f\"Labels: {np.argmax(labels, axis=1)}\")\n",
        "    \n",
        "    # Display 4 sample images\n",
        "    plt.figure(figsize=(5, 5))\n",
        "    for i in range(4):\n",
        "        ax = plt.subplot(2, 2, i + 1)\n",
        "        plt.imshow(images[i].squeeze(), cmap='gray')\n",
        "        plt.title(f\"Label: {ascii_convert(int(decode_label(np.argmax(labels[i]), char_to_num)))}\")\n",
        "        plt.axis(\"off\")\n",
        "    plt.show()\n",
        "\n",
        "debug_batch(train_generator, char_to_num)\n",
        "debug_batch(validation_generator, char_to_num)\n",
        "debug_batch(fine_train_generator, char_to_num)\n",
        "debug_batch(fine_validation_generator, char_to_num)\n"
      ]
    },
    {
      "cell_type": "markdown",
      "metadata": {
        "id": "XdTqBect_Owc"
      },
      "source": [
        "# Defining Our Math-Vision Model"
      ]
    },
    {
      "cell_type": "markdown",
      "metadata": {
        "id": "LpaUSYfYYvmK"
      },
      "source": [
        "After much expermenting and researching I have decided to give Residual Block a try."
      ]
    },
    {
      "cell_type": "code",
      "execution_count": 4,
      "metadata": {
        "id": "K65uvYKpY2EU"
      },
      "outputs": [],
      "source": [
        "import tensorflow as tf\n",
        "from tensorflow.keras import layers, Model\n",
        "\n",
        "def residual_block(x, filters, kernel_size=3, strides=1, activation='relu', dropout=0.1):\n",
        "    shortcut = x\n",
        "    x = layers.Conv2D(filters, kernel_size, strides=strides, padding='same', kernel_regularizer=tf.keras.regularizers.l2(0.001))(x)\n",
        "    x = layers.BatchNormalization()(x)\n",
        "    x = layers.Activation(activation)(x)\n",
        "    \n",
        "    x = layers.Conv2D(filters, kernel_size, strides=1, padding='same', kernel_regularizer=tf.keras.regularizers.l2(0.001))(x)\n",
        "    x = layers.BatchNormalization()(x)\n",
        "\n",
        "    if strides != 1 or x.shape[-1] != shortcut.shape[-1]:\n",
        "        shortcut = layers.Conv2D(filters, kernel_size=1, strides=strides, padding='same')(shortcut)\n",
        "        shortcut = layers.BatchNormalization()(shortcut)\n",
        "\n",
        "    x = layers.Add()([x, shortcut])\n",
        "    x = layers.Activation(activation)(x)\n",
        "\n",
        "    if dropout:\n",
        "        x = layers.Dropout(dropout)(x)\n",
        "        \n",
        "    return x\n"
      ]
    },
    {
      "cell_type": "markdown",
      "metadata": {
        "id": "d90WbNes_X5S"
      },
      "source": [
        "First things first, we define our input shape and number of classes."
      ]
    },
    {
      "cell_type": "code",
      "execution_count": 10,
      "metadata": {
        "id": "SlmJAxzk7YSL"
      },
      "outputs": [
        {
          "name": "stdout",
          "output_type": "stream",
          "text": [
            "89\n"
          ]
        }
      ],
      "source": [
        "# defining input and number of classes.\n",
        "input_shape = TARGET_SIZE + (1,)\n",
        "num_classes = len(char_to_num)\n",
        "print(num_classes)"
      ]
    },
    {
      "cell_type": "markdown",
      "metadata": {
        "id": "DXA9NPHB_cWo"
      },
      "source": [
        "We will now define our model."
      ]
    },
    {
      "cell_type": "code",
      "execution_count": 11,
      "metadata": {
        "id": "EMWDXse2_knl"
      },
      "outputs": [],
      "source": [
        "def build_model(input_shape, num_classes):\n",
        "    inputs = layers.Input(shape=input_shape)\n",
        "    x = layers.Conv2D(32, (3, 3), padding='same', kernel_regularizer=keras.regularizers.l2(0.001))(inputs)\n",
        "    x = layers.BatchNormalization()(x)\n",
        "    x = layers.Activation('relu')(x)\n",
        "    x = layers.MaxPooling2D(pool_size=(2, 2))(x)\n",
        "    \n",
        "    x = layers.Conv2D(64, (3, 3), padding='same', kernel_regularizer=keras.regularizers.l2(0.001))(x)\n",
        "    x = layers.BatchNormalization()(x)\n",
        "    x = layers.Activation('relu')(x)\n",
        "    x = layers.MaxPooling2D(pool_size=(2, 2))(x)\n",
        "    \n",
        "    x = residual_block(x, 256, dropout=0.15)\n",
        "    x = layers.MaxPooling2D(pool_size=(2, 2))(x)\n",
        "    \n",
        "    x = residual_block(x, 512, dropout=0.20)\n",
        "    x = layers.MaxPooling2D(pool_size=(2, 2))(x)\n",
        "      \n",
        "    x = layers.Flatten()(x)\n",
        "    x = layers.Dense(1024, activation='relu', kernel_regularizer=keras.regularizers.l2(0.001))(x)\n",
        "    x = layers.Dropout(0.3)(x)\n",
        "    x = layers.Dense(512, activation='relu', kernel_regularizer=keras.regularizers.l2(0.001))(x)\n",
        "    x = layers.Dropout(0.3)(x)\n",
        "    outputs = layers.Dense(num_classes, activation='softmax')(x)\n",
        "\n",
        "    model = Model(inputs=inputs, outputs=outputs)\n",
        "    return model\n",
        "\n",
        "math_vision_model = build_model(input_shape, num_classes)\n"
      ]
    },
    {
      "cell_type": "markdown",
      "metadata": {
        "id": "C0-Ap7B3ByCx"
      },
      "source": [
        "Here's the summary of our model"
      ]
    },
    {
      "cell_type": "code",
      "execution_count": 15,
      "metadata": {
        "colab": {
          "base_uri": "https://localhost:8080/"
        },
        "id": "NMLdVeVv_xSr",
        "outputId": "3f276ee8-f0d5-48ff-b61b-c5a6f74a528a"
      },
      "outputs": [
        {
          "name": "stdout",
          "output_type": "stream",
          "text": [
            "Model: \"model\"\n",
            "__________________________________________________________________________________________________\n",
            " Layer (type)                   Output Shape         Param #     Connected to                     \n",
            "==================================================================================================\n",
            " input_1 (InputLayer)           [(None, 140, 140, 1  0           []                               \n",
            "                                )]                                                                \n",
            "                                                                                                  \n",
            " conv2d (Conv2D)                (None, 140, 140, 32  320         ['input_1[0][0]']                \n",
            "                                )                                                                 \n",
            "                                                                                                  \n",
            " batch_normalization (BatchNorm  (None, 140, 140, 32  128        ['conv2d[0][0]']                 \n",
            " alization)                     )                                                                 \n",
            "                                                                                                  \n",
            " activation (Activation)        (None, 140, 140, 32  0           ['batch_normalization[0][0]']    \n",
            "                                )                                                                 \n",
            "                                                                                                  \n",
            " max_pooling2d (MaxPooling2D)   (None, 70, 70, 32)   0           ['activation[0][0]']             \n",
            "                                                                                                  \n",
            " conv2d_1 (Conv2D)              (None, 70, 70, 64)   18496       ['max_pooling2d[0][0]']          \n",
            "                                                                                                  \n",
            " batch_normalization_1 (BatchNo  (None, 70, 70, 64)  256         ['conv2d_1[0][0]']               \n",
            " rmalization)                                                                                     \n",
            "                                                                                                  \n",
            " activation_1 (Activation)      (None, 70, 70, 64)   0           ['batch_normalization_1[0][0]']  \n",
            "                                                                                                  \n",
            " max_pooling2d_1 (MaxPooling2D)  (None, 35, 35, 64)  0           ['activation_1[0][0]']           \n",
            "                                                                                                  \n",
            " conv2d_2 (Conv2D)              (None, 35, 35, 256)  147712      ['max_pooling2d_1[0][0]']        \n",
            "                                                                                                  \n",
            " batch_normalization_2 (BatchNo  (None, 35, 35, 256)  1024       ['conv2d_2[0][0]']               \n",
            " rmalization)                                                                                     \n",
            "                                                                                                  \n",
            " activation_2 (Activation)      (None, 35, 35, 256)  0           ['batch_normalization_2[0][0]']  \n",
            "                                                                                                  \n",
            " conv2d_3 (Conv2D)              (None, 35, 35, 256)  590080      ['activation_2[0][0]']           \n",
            "                                                                                                  \n",
            " conv2d_4 (Conv2D)              (None, 35, 35, 256)  16640       ['max_pooling2d_1[0][0]']        \n",
            "                                                                                                  \n",
            " batch_normalization_3 (BatchNo  (None, 35, 35, 256)  1024       ['conv2d_3[0][0]']               \n",
            " rmalization)                                                                                     \n",
            "                                                                                                  \n",
            " batch_normalization_4 (BatchNo  (None, 35, 35, 256)  1024       ['conv2d_4[0][0]']               \n",
            " rmalization)                                                                                     \n",
            "                                                                                                  \n",
            " add (Add)                      (None, 35, 35, 256)  0           ['batch_normalization_3[0][0]',  \n",
            "                                                                  'batch_normalization_4[0][0]']  \n",
            "                                                                                                  \n",
            " activation_3 (Activation)      (None, 35, 35, 256)  0           ['add[0][0]']                    \n",
            "                                                                                                  \n",
            " dropout (Dropout)              (None, 35, 35, 256)  0           ['activation_3[0][0]']           \n",
            "                                                                                                  \n",
            " max_pooling2d_2 (MaxPooling2D)  (None, 17, 17, 256)  0          ['dropout[0][0]']                \n",
            "                                                                                                  \n",
            " conv2d_5 (Conv2D)              (None, 17, 17, 512)  1180160     ['max_pooling2d_2[0][0]']        \n",
            "                                                                                                  \n",
            " batch_normalization_5 (BatchNo  (None, 17, 17, 512)  2048       ['conv2d_5[0][0]']               \n",
            " rmalization)                                                                                     \n",
            "                                                                                                  \n",
            " activation_4 (Activation)      (None, 17, 17, 512)  0           ['batch_normalization_5[0][0]']  \n",
            "                                                                                                  \n",
            " conv2d_6 (Conv2D)              (None, 17, 17, 512)  2359808     ['activation_4[0][0]']           \n",
            "                                                                                                  \n",
            " conv2d_7 (Conv2D)              (None, 17, 17, 512)  131584      ['max_pooling2d_2[0][0]']        \n",
            "                                                                                                  \n",
            " batch_normalization_6 (BatchNo  (None, 17, 17, 512)  2048       ['conv2d_6[0][0]']               \n",
            " rmalization)                                                                                     \n",
            "                                                                                                  \n",
            " batch_normalization_7 (BatchNo  (None, 17, 17, 512)  2048       ['conv2d_7[0][0]']               \n",
            " rmalization)                                                                                     \n",
            "                                                                                                  \n",
            " add_1 (Add)                    (None, 17, 17, 512)  0           ['batch_normalization_6[0][0]',  \n",
            "                                                                  'batch_normalization_7[0][0]']  \n",
            "                                                                                                  \n",
            " activation_5 (Activation)      (None, 17, 17, 512)  0           ['add_1[0][0]']                  \n",
            "                                                                                                  \n",
            " dropout_1 (Dropout)            (None, 17, 17, 512)  0           ['activation_5[0][0]']           \n",
            "                                                                                                  \n",
            " max_pooling2d_3 (MaxPooling2D)  (None, 8, 8, 512)   0           ['dropout_1[0][0]']              \n",
            "                                                                                                  \n",
            " flatten (Flatten)              (None, 32768)        0           ['max_pooling2d_3[0][0]']        \n",
            "                                                                                                  \n",
            " dense (Dense)                  (None, 1024)         33555456    ['flatten[0][0]']                \n",
            "                                                                                                  \n",
            " dropout_2 (Dropout)            (None, 1024)         0           ['dense[0][0]']                  \n",
            "                                                                                                  \n",
            " dense_1 (Dense)                (None, 512)          524800      ['dropout_2[0][0]']              \n",
            "                                                                                                  \n",
            " dropout_3 (Dropout)            (None, 512)          0           ['dense_1[0][0]']                \n",
            "                                                                                                  \n",
            " dense_2 (Dense)                (None, 89)           45657       ['dropout_3[0][0]']              \n",
            "                                                                                                  \n",
            "==================================================================================================\n",
            "Total params: 38,580,313\n",
            "Trainable params: 38,575,513\n",
            "Non-trainable params: 4,800\n",
            "__________________________________________________________________________________________________\n"
          ]
        }
      ],
      "source": [
        "math_vision_model.summary()"
      ]
    },
    {
      "cell_type": "markdown",
      "metadata": {},
      "source": [
        "We are using focal loss, as it helps the model distinguish overlapping features in the classes."
      ]
    },
    {
      "cell_type": "code",
      "execution_count": 32,
      "metadata": {},
      "outputs": [],
      "source": [
        "def focal_loss(gamma=2., alpha=0.25):\n",
        "    def focal_loss_fixed(y_true, y_pred):\n",
        "        epsilon = backend.epsilon()\n",
        "        y_true = tf.cast(y_true, tf.float32)\n",
        "        y_pred = tf.cast(y_pred, tf.float32)\n",
        "        y_pred = backend.clip(y_pred, epsilon, 1. - epsilon)\n",
        "        \n",
        "        # Ensure y_true and y_pred are reshaped correctly\n",
        "        y_true = tf.reshape(y_true, [-1, tf.shape(y_pred)[-1]])\n",
        "        \n",
        "        alpha_t = y_true * alpha + (1 - y_true) * (1 - alpha)\n",
        "        p_t = y_true * y_pred + (1 - y_true) * (1 - y_pred)\n",
        "        \n",
        "        fl = - alpha_t * backend.pow((1 - p_t), gamma) * backend.log(p_t)\n",
        "        \n",
        "        return backend.mean(backend.sum(fl, axis=-1))\n",
        "    return focal_loss_fixed"
      ]
    },
    {
      "cell_type": "markdown",
      "metadata": {},
      "source": [
        "Defining custom callbacks."
      ]
    },
    {
      "cell_type": "code",
      "execution_count": 17,
      "metadata": {
        "id": "Unz5sZmxpip7"
      },
      "outputs": [],
      "source": [
        "from tensorflow.keras.callbacks import ModelCheckpoint, EarlyStopping, Callback\n",
        "\n",
        "class TrainingHistory(Callback):\n",
        "    def on_train_begin(self, logs={}):\n",
        "        self.history = {\n",
        "            'loss': [],\n",
        "            'accuracy': [],\n",
        "            'val_loss': [],\n",
        "            'val_accuracy': []\n",
        "        }\n",
        "\n",
        "    def on_epoch_end(self, epoch, logs={}):\n",
        "        self.history['loss'].append(logs.get('loss'))\n",
        "        self.history['accuracy'].append(logs.get('accuracy'))\n",
        "        self.history['val_loss'].append(logs.get('val_loss'))\n",
        "        self.history['val_accuracy'].append(logs.get('val_accuracy'))\n",
        "\n",
        "\n",
        "# Custom early stopping based on training loss and accuracy\n",
        "class CustomEarlyStopping(Callback):\n",
        "    def on_epoch_end(self, epoch, logs=None):\n",
        "        if logs.get('val_loss') < 0.05 and logs.get('val_accuracy') > 0.95:\n",
        "            print(\"Training loss < 5% and accuracy > 95% - stopping training\")\n",
        "            self.model.stop_training = True\n",
        "\n"
      ]
    },
    {
      "cell_type": "markdown",
      "metadata": {},
      "source": [
        "Initializing callbacks."
      ]
    },
    {
      "cell_type": "code",
      "execution_count": 19,
      "metadata": {},
      "outputs": [],
      "source": [
        "# Define the callbacks\n",
        "checkpoint = ModelCheckpoint(\n",
        "    'checkpoints/math-vision-resnet_-checkpoint.h5', save_best_only=True, monitor='val_loss', mode='min'\n",
        ")\n",
        "early_stopping = EarlyStopping(\n",
        "    monitor='val_loss', patience=10, restore_best_weights=True\n",
        ")\n",
        "reduce_lr = ReduceLROnPlateau(\n",
        "    monitor='val_loss', factor=0.2, patience=3, min_lr=1e-7\n",
        ")\n",
        "traininghistory = TrainingHistory()\n",
        "\n",
        "callbacks = [checkpoint, early_stopping, reduce_lr, traininghistory]"
      ]
    },
    {
      "cell_type": "markdown",
      "metadata": {
        "id": "9z1DFslr3bnd"
      },
      "source": [
        "Compiling the Model with adam and focal loss of alpha=0.5 and gamma=2."
      ]
    },
    {
      "cell_type": "code",
      "execution_count": 1166,
      "metadata": {
        "id": "yLJeODkcFguF"
      },
      "outputs": [],
      "source": [
        "optimizer = Adam(learning_rate=0.0001)\n",
        "\n",
        "# Compile the model\n",
        "math_vision_model.compile(\n",
        "    optimizer=optimizer,\n",
        "    loss=focal_loss(gamma=2, alpha=0.5),\n",
        "    metrics=['accuracy']\n",
        ")"
      ]
    },
    {
      "cell_type": "markdown",
      "metadata": {
        "id": "B_KTP-Er8pbj"
      },
      "source": [
        "# Training Math-Vison Model"
      ]
    },
    {
      "cell_type": "markdown",
      "metadata": {
        "id": "q7UveEK_9lhg"
      },
      "source": [
        "Setting the mixed prescision policy to mixed float16 (this is not supported by all GPUs and TPUs)"
      ]
    },
    {
      "cell_type": "code",
      "execution_count": 20,
      "metadata": {
        "id": "Zj7UNy_JLd7V"
      },
      "outputs": [
        {
          "name": "stdout",
          "output_type": "stream",
          "text": [
            "INFO:tensorflow:Mixed precision compatibility check (mixed_float16): OK\n",
            "Your GPU will likely run quickly with dtype policy mixed_float16 as it has compute capability of at least 7.0. Your GPU: NVIDIA GeForce RTX 4070 Laptop GPU, compute capability 8.9\n"
          ]
        }
      ],
      "source": [
        "# Using mixed precision training helps in speeding up training on stronger GPUs\n",
        "policy = mixed_precision.Policy('mixed_float16')\n",
        "mixed_precision.set_global_policy(policy)"
      ]
    },
    {
      "cell_type": "markdown",
      "metadata": {},
      "source": [
        "If the model doesn't work anymore set it back to float32."
      ]
    },
    {
      "cell_type": "code",
      "execution_count": 665,
      "metadata": {
        "id": "7_ZPV37T5LWk"
      },
      "outputs": [],
      "source": [
        "mixed_precision.set_global_policy('float32')"
      ]
    },
    {
      "cell_type": "markdown",
      "metadata": {},
      "source": [
        "We will train our model for 75 epochs with early stopping if validation reaches a plateau."
      ]
    },
    {
      "cell_type": "code",
      "execution_count": 1168,
      "metadata": {
        "colab": {
          "base_uri": "https://localhost:8080/",
          "height": 407
        },
        "id": "YtP6QfbW8jCO",
        "outputId": "e074f28a-0b8a-47a2-8902-8e75c73eee5e"
      },
      "outputs": [
        {
          "name": "stdout",
          "output_type": "stream",
          "text": [
            "Epoch 1/75\n",
            "10305/10305 [==============================] - 1061s 102ms/step - loss: 1.0621 - accuracy: 0.7180 - val_loss: 0.5145 - val_accuracy: 0.7108 - lr: 1.0000e-04\n",
            "Epoch 2/75\n",
            "10305/10305 [==============================] - 1045s 101ms/step - loss: 0.3043 - accuracy: 0.8180 - val_loss: 0.3101 - val_accuracy: 0.8092 - lr: 1.0000e-04\n",
            "Epoch 3/75\n",
            "10305/10305 [==============================] - 1047s 102ms/step - loss: 0.2491 - accuracy: 0.8320 - val_loss: 0.3271 - val_accuracy: 0.7950 - lr: 1.0000e-04\n",
            "Epoch 4/75\n",
            "10305/10305 [==============================] - 1045s 101ms/step - loss: 0.2458 - accuracy: 0.8379 - val_loss: 0.3127 - val_accuracy: 0.8056 - lr: 1.0000e-04\n",
            "Epoch 5/75\n",
            "10305/10305 [==============================] - 1047s 102ms/step - loss: 0.2300 - accuracy: 0.8416 - val_loss: 0.5905 - val_accuracy: 0.6273 - lr: 1.0000e-04\n",
            "Epoch 6/75\n",
            "10305/10305 [==============================] - 1047s 101ms/step - loss: 0.1779 - accuracy: 0.8626 - val_loss: 0.1900 - val_accuracy: 0.8423 - lr: 2.0000e-05\n",
            "Epoch 7/75\n",
            "10305/10305 [==============================] - 1046s 101ms/step - loss: 0.1601 - accuracy: 0.8656 - val_loss: 0.1985 - val_accuracy: 0.8296 - lr: 2.0000e-05\n",
            "Epoch 8/75\n",
            "10305/10305 [==============================] - 1046s 101ms/step - loss: 0.1546 - accuracy: 0.8673 - val_loss: 0.2104 - val_accuracy: 0.8357 - lr: 2.0000e-05\n",
            "Epoch 9/75\n",
            "10305/10305 [==============================] - 1049s 102ms/step - loss: 0.1524 - accuracy: 0.8681 - val_loss: 0.2082 - val_accuracy: 0.8327 - lr: 2.0000e-05\n",
            "Epoch 10/75\n",
            "10305/10305 [==============================] - 1045s 101ms/step - loss: 0.1427 - accuracy: 0.8744 - val_loss: 0.1821 - val_accuracy: 0.8449 - lr: 4.0000e-06\n",
            "Epoch 11/75\n",
            "10305/10305 [==============================] - 1047s 101ms/step - loss: 0.1399 - accuracy: 0.8756 - val_loss: 0.1781 - val_accuracy: 0.8421 - lr: 4.0000e-06\n",
            "Epoch 12/75\n",
            "10305/10305 [==============================] - 1046s 101ms/step - loss: 0.1380 - accuracy: 0.8758 - val_loss: 0.1813 - val_accuracy: 0.8366 - lr: 4.0000e-06\n",
            "Epoch 13/75\n",
            "10305/10305 [==============================] - 1048s 102ms/step - loss: 0.1371 - accuracy: 0.8763 - val_loss: 0.1770 - val_accuracy: 0.8442 - lr: 4.0000e-06\n",
            "Epoch 14/75\n",
            "10305/10305 [==============================] - 1048s 102ms/step - loss: 0.1364 - accuracy: 0.8766 - val_loss: 0.1668 - val_accuracy: 0.8499 - lr: 4.0000e-06\n",
            "Epoch 15/75\n",
            "10305/10305 [==============================] - 1046s 101ms/step - loss: 0.1355 - accuracy: 0.8772 - val_loss: 0.1779 - val_accuracy: 0.8456 - lr: 4.0000e-06\n",
            "Epoch 16/75\n",
            "10305/10305 [==============================] - 1045s 101ms/step - loss: 0.1346 - accuracy: 0.8777 - val_loss: 0.1778 - val_accuracy: 0.8449 - lr: 4.0000e-06\n",
            "Epoch 17/75\n",
            "10305/10305 [==============================] - 1048s 102ms/step - loss: 0.1340 - accuracy: 0.8775 - val_loss: 0.1639 - val_accuracy: 0.8540 - lr: 4.0000e-06\n",
            "Epoch 18/75\n",
            "10305/10305 [==============================] - 1046s 101ms/step - loss: 0.1329 - accuracy: 0.8777 - val_loss: 0.1690 - val_accuracy: 0.8511 - lr: 4.0000e-06\n",
            "Epoch 19/75\n",
            "10305/10305 [==============================] - 1047s 101ms/step - loss: 0.1327 - accuracy: 0.8789 - val_loss: 0.1685 - val_accuracy: 0.8505 - lr: 4.0000e-06\n",
            "Epoch 20/75\n",
            "10305/10305 [==============================] - 1046s 101ms/step - loss: 0.1319 - accuracy: 0.8785 - val_loss: 0.1734 - val_accuracy: 0.8496 - lr: 4.0000e-06\n",
            "Epoch 21/75\n",
            "10305/10305 [==============================] - 1052s 102ms/step - loss: 0.1294 - accuracy: 0.8808 - val_loss: 0.1612 - val_accuracy: 0.8534 - lr: 8.0000e-07\n",
            "Epoch 22/75\n",
            "10305/10305 [==============================] - 1046s 101ms/step - loss: 0.1288 - accuracy: 0.8813 - val_loss: 0.1614 - val_accuracy: 0.8536 - lr: 8.0000e-07\n",
            "Epoch 23/75\n",
            "10305/10305 [==============================] - 1048s 102ms/step - loss: 0.1282 - accuracy: 0.8814 - val_loss: 0.1600 - val_accuracy: 0.8547 - lr: 8.0000e-07\n",
            "Epoch 24/75\n",
            "10305/10305 [==============================] - 1048s 102ms/step - loss: 0.1281 - accuracy: 0.8813 - val_loss: 0.1610 - val_accuracy: 0.8532 - lr: 8.0000e-07\n",
            "Epoch 25/75\n",
            "10305/10305 [==============================] - 1050s 102ms/step - loss: 0.1280 - accuracy: 0.8814 - val_loss: 0.1631 - val_accuracy: 0.8526 - lr: 8.0000e-07\n",
            "Epoch 26/75\n",
            "10305/10305 [==============================] - 1045s 101ms/step - loss: 0.1277 - accuracy: 0.8814 - val_loss: 0.1641 - val_accuracy: 0.8503 - lr: 8.0000e-07\n",
            "Epoch 27/75\n",
            "10305/10305 [==============================] - 1044s 101ms/step - loss: 0.1270 - accuracy: 0.8819 - val_loss: 0.1630 - val_accuracy: 0.8512 - lr: 1.6000e-07\n",
            "Epoch 28/75\n",
            "10305/10305 [==============================] - 1046s 101ms/step - loss: 0.1271 - accuracy: 0.8819 - val_loss: 0.1627 - val_accuracy: 0.8513 - lr: 1.6000e-07\n",
            "Epoch 29/75\n",
            "10305/10305 [==============================] - 1050s 102ms/step - loss: 0.1269 - accuracy: 0.8819 - val_loss: 0.1623 - val_accuracy: 0.8510 - lr: 1.6000e-07\n",
            "Epoch 30/75\n",
            "10305/10305 [==============================] - 1048s 102ms/step - loss: 0.1269 - accuracy: 0.8817 - val_loss: 0.1629 - val_accuracy: 0.8513 - lr: 1.0000e-07\n",
            "Epoch 31/75\n",
            "10305/10305 [==============================] - 1045s 101ms/step - loss: 0.1269 - accuracy: 0.8820 - val_loss: 0.1636 - val_accuracy: 0.8507 - lr: 1.0000e-07\n",
            "Epoch 32/75\n",
            "10305/10305 [==============================] - 1046s 101ms/step - loss: 0.1266 - accuracy: 0.8823 - val_loss: 0.1650 - val_accuracy: 0.8498 - lr: 1.0000e-07\n",
            "Epoch 33/75\n",
            "10305/10305 [==============================] - 1049s 102ms/step - loss: 0.1266 - accuracy: 0.8827 - val_loss: 0.1628 - val_accuracy: 0.8512 - lr: 1.0000e-07\n"
          ]
        }
      ],
      "source": [
        "EPOCHS = 75\n",
        "\n",
        "# Train the model\n",
        "history = math_vision_model.fit(\n",
        "    train_generator,\n",
        "    steps_per_epoch = train_generator.samples // train_generator.batch_size,\n",
        "    batch_size=BATCH_SIZE,\n",
        "    validation_data=validation_generator,\n",
        "    validation_steps= validation_generator.samples // validation_generator.batch_size,\n",
        "    epochs=EPOCHS,\n",
        "    verbose=1,\n",
        "    workers=24,\n",
        "    callbacks=callbacks\n",
        ")\n"
      ]
    },
    {
      "cell_type": "markdown",
      "metadata": {
        "id": "F2znRXMx-BH8"
      },
      "source": [
        "# Plotting the Metrics\n"
      ]
    },
    {
      "cell_type": "markdown",
      "metadata": {
        "id": "b63dnktXSlgo"
      },
      "source": [
        "We will plot our model's accuracy and loss per epoch to obtain a graph."
      ]
    },
    {
      "cell_type": "code",
      "execution_count": null,
      "metadata": {
        "colab": {
          "base_uri": "https://localhost:8080/",
          "height": 219
        },
        "id": "gQ5mtVLt-ImP",
        "outputId": "65472a29-8bcc-4361-f0fe-ccf229af880b"
      },
      "outputs": [],
      "source": [
        "# Plot training & validation CER values\n",
        "def plot_training_history(history):\n",
        "    epochs = range(1, len(history['loss']) + 1)\n",
        "\n",
        "    plt.figure(figsize=(12, 4))\n",
        "\n",
        "    plt.subplot(1, 2, 1)\n",
        "    plt.plot(epochs, history['loss'], 'r', label='Training loss')\n",
        "    plt.plot(epochs, history['val_loss'], 'b', label='Validation loss')\n",
        "    plt.title('Training and Validation Loss')\n",
        "    plt.xlabel('Epochs')\n",
        "    plt.ylabel('Loss')\n",
        "    plt.legend()\n",
        "\n",
        "    plt.subplot(1, 2, 2)\n",
        "    plt.plot(epochs, history['accuracy'], 'r', label='Training accuracy')\n",
        "    plt.plot(epochs, history['val_accuracy'], 'b', label='Validation accuracy')\n",
        "    plt.title('Training and Validation Accuracy')\n",
        "    plt.xlabel('Epochs')\n",
        "    plt.ylabel('Accuracy')\n",
        "    plt.legend()\n",
        "\n",
        "    plt.show()\n",
        "\n",
        "plot_training_history(history.history)"
      ]
    },
    {
      "cell_type": "markdown",
      "metadata": {},
      "source": [
        "# Fine tuning Math-vision model"
      ]
    },
    {
      "cell_type": "markdown",
      "metadata": {},
      "source": [
        "Let's save this model and later use it for fine tuning."
      ]
    },
    {
      "cell_type": "code",
      "execution_count": 29,
      "metadata": {},
      "outputs": [],
      "source": [
        "math_vision_save_path = 'models/math-vision-resnet_model.h5'"
      ]
    },
    {
      "cell_type": "code",
      "execution_count": null,
      "metadata": {},
      "outputs": [],
      "source": [
        "\n",
        "math_vision_model.save(math_vision_save_path)"
      ]
    },
    {
      "cell_type": "markdown",
      "metadata": {},
      "source": [
        "Let's load the model."
      ]
    },
    {
      "cell_type": "code",
      "execution_count": 33,
      "metadata": {},
      "outputs": [
        {
          "name": "stdout",
          "output_type": "stream",
          "text": [
            "INFO:tensorflow:Mixed precision compatibility check (mixed_float16): OK\n",
            "Your GPU will likely run quickly with dtype policy mixed_float16 as it has compute capability of at least 7.0. Your GPU: NVIDIA GeForce RTX 4070 Laptop GPU, compute capability 8.9\n"
          ]
        }
      ],
      "source": [
        "math_vision_fine_tune = load_model(math_vision_save_path, custom_objects={'focal_loss_fixed': focal_loss(gamma=2, alpha=0.25)})"
      ]
    },
    {
      "cell_type": "markdown",
      "metadata": {},
      "source": [
        "Lets setup the callbacks once again."
      ]
    },
    {
      "cell_type": "code",
      "execution_count": 1192,
      "metadata": {},
      "outputs": [],
      "source": [
        "checkpoint_path = \"checkpoints/resnet-math-vision-fine-tuning.h5\"\n",
        "checkpoint_dir = os.path.dirname(checkpoint_path)\n",
        "\n",
        "# Create checkpoint callback\n",
        "checkpoint = ModelCheckpoint(filepath=checkpoint_path, save_best_only=True, monitor='val_loss', mode='min', verbose=1)\n",
        "\n",
        "# Create early stopping callback\n",
        "early_stopping = EarlyStopping(monitor='val_loss', patience=10, verbose=1, mode='min')\n",
        "custom_early_stopping = CustomEarlyStopping()\n",
        "\n",
        "training_history = TrainingHistory()\n",
        "\n",
        "reduce_lr = ReduceLROnPlateau(monitor='val_loss', factor=0.2, patience=2, min_lr=0.000001, verbose=1)"
      ]
    },
    {
      "cell_type": "markdown",
      "metadata": {},
      "source": [
        "We need to unfreeze some of the layer for training."
      ]
    },
    {
      "cell_type": "code",
      "execution_count": 1173,
      "metadata": {},
      "outputs": [],
      "source": [
        "for layer in math_vision_fine_tune.layers[-100:]:\n",
        "    layer.trainable = True"
      ]
    },
    {
      "cell_type": "markdown",
      "metadata": {},
      "source": [
        "Now let's fit this model with our fine tuining dataset."
      ]
    },
    {
      "cell_type": "code",
      "execution_count": 1193,
      "metadata": {},
      "outputs": [
        {
          "name": "stdout",
          "output_type": "stream",
          "text": [
            "Current learning rate: 1.0000000116860974e-07\n",
            "Epoch 1/15\n",
            "1631/1631 [==============================] - ETA: 0s - loss: 0.1548 - accuracy: 0.8085\n",
            "Epoch 1: val_loss improved from inf to 0.24271, saving model to checkpoints\\resnet-math-vision-fine-tuning.h5\n",
            "1631/1631 [==============================] - 168s 102ms/step - loss: 0.1548 - accuracy: 0.8085 - val_loss: 0.2427 - val_accuracy: 0.7165 - lr: 1.0000e-05\n",
            "Epoch 2/15\n",
            "1631/1631 [==============================] - ETA: 0s - loss: 0.1134 - accuracy: 0.8594\n",
            "Epoch 2: val_loss improved from 0.24271 to 0.22152, saving model to checkpoints\\resnet-math-vision-fine-tuning.h5\n",
            "1631/1631 [==============================] - 166s 101ms/step - loss: 0.1134 - accuracy: 0.8594 - val_loss: 0.2215 - val_accuracy: 0.7390 - lr: 1.0000e-05\n",
            "Epoch 3/15\n",
            "1631/1631 [==============================] - ETA: 0s - loss: 0.1039 - accuracy: 0.8721\n",
            "Epoch 3: val_loss improved from 0.22152 to 0.21491, saving model to checkpoints\\resnet-math-vision-fine-tuning.h5\n",
            "1631/1631 [==============================] - 166s 101ms/step - loss: 0.1039 - accuracy: 0.8721 - val_loss: 0.2149 - val_accuracy: 0.7514 - lr: 1.0000e-05\n",
            "Epoch 4/15\n",
            "1631/1631 [==============================] - ETA: 0s - loss: 0.0980 - accuracy: 0.8804\n",
            "Epoch 4: val_loss did not improve from 0.21491\n",
            "1631/1631 [==============================] - 164s 100ms/step - loss: 0.0980 - accuracy: 0.8804 - val_loss: 0.2224 - val_accuracy: 0.7454 - lr: 1.0000e-05\n",
            "Epoch 5/15\n",
            "1631/1631 [==============================] - ETA: 0s - loss: 0.0944 - accuracy: 0.8851\n",
            "Epoch 5: val_loss improved from 0.21491 to 0.19938, saving model to checkpoints\\resnet-math-vision-fine-tuning.h5\n",
            "1631/1631 [==============================] - 165s 101ms/step - loss: 0.0944 - accuracy: 0.8851 - val_loss: 0.1994 - val_accuracy: 0.7544 - lr: 1.0000e-05\n",
            "Epoch 6/15\n",
            "1631/1631 [==============================] - ETA: 0s - loss: 0.0906 - accuracy: 0.8908\n",
            "Epoch 6: val_loss did not improve from 0.19938\n",
            "1631/1631 [==============================] - 166s 102ms/step - loss: 0.0906 - accuracy: 0.8908 - val_loss: 0.2191 - val_accuracy: 0.7373 - lr: 1.0000e-05\n",
            "Epoch 7/15\n",
            "1631/1631 [==============================] - ETA: 0s - loss: 0.0882 - accuracy: 0.8936\n",
            "Epoch 7: val_loss did not improve from 0.19938\n",
            "\n",
            "Epoch 7: ReduceLROnPlateau reducing learning rate to 1.9999999494757505e-06.\n",
            "1631/1631 [==============================] - 166s 101ms/step - loss: 0.0882 - accuracy: 0.8936 - val_loss: 0.2088 - val_accuracy: 0.7534 - lr: 1.0000e-05\n",
            "Epoch 8/15\n",
            "1631/1631 [==============================] - ETA: 0s - loss: 0.0837 - accuracy: 0.9014\n",
            "Epoch 8: val_loss improved from 0.19938 to 0.19484, saving model to checkpoints\\resnet-math-vision-fine-tuning.h5\n",
            "1631/1631 [==============================] - 174s 106ms/step - loss: 0.0837 - accuracy: 0.9014 - val_loss: 0.1948 - val_accuracy: 0.7612 - lr: 2.0000e-06\n",
            "Epoch 9/15\n",
            "1631/1631 [==============================] - ETA: 0s - loss: 0.0821 - accuracy: 0.9029\n",
            "Epoch 9: val_loss improved from 0.19484 to 0.19364, saving model to checkpoints\\resnet-math-vision-fine-tuning.h5\n",
            "1631/1631 [==============================] - 182s 111ms/step - loss: 0.0821 - accuracy: 0.9029 - val_loss: 0.1936 - val_accuracy: 0.7668 - lr: 2.0000e-06\n",
            "Epoch 10/15\n",
            "1631/1631 [==============================] - ETA: 0s - loss: 0.0813 - accuracy: 0.9037\n",
            "Epoch 10: val_loss improved from 0.19364 to 0.18446, saving model to checkpoints\\resnet-math-vision-fine-tuning.h5\n",
            "1631/1631 [==============================] - 177s 108ms/step - loss: 0.0813 - accuracy: 0.9037 - val_loss: 0.1845 - val_accuracy: 0.7743 - lr: 2.0000e-06\n",
            "Epoch 11/15\n",
            "1631/1631 [==============================] - ETA: 0s - loss: 0.0804 - accuracy: 0.9049\n",
            "Epoch 11: val_loss did not improve from 0.18446\n",
            "1631/1631 [==============================] - 167s 102ms/step - loss: 0.0804 - accuracy: 0.9049 - val_loss: 0.1923 - val_accuracy: 0.7713 - lr: 2.0000e-06\n",
            "Epoch 12/15\n",
            "1631/1631 [==============================] - ETA: 0s - loss: 0.0798 - accuracy: 0.9064\n",
            "Epoch 12: val_loss did not improve from 0.18446\n",
            "\n",
            "Epoch 12: ReduceLROnPlateau reducing learning rate to 1e-06.\n",
            "1631/1631 [==============================] - 166s 101ms/step - loss: 0.0798 - accuracy: 0.9064 - val_loss: 0.1877 - val_accuracy: 0.7702 - lr: 2.0000e-06\n",
            "Epoch 13/15\n",
            "1631/1631 [==============================] - ETA: 0s - loss: 0.0788 - accuracy: 0.9070\n",
            "Epoch 13: val_loss did not improve from 0.18446\n",
            "1631/1631 [==============================] - 165s 101ms/step - loss: 0.0788 - accuracy: 0.9070 - val_loss: 0.1905 - val_accuracy: 0.7693 - lr: 1.0000e-06\n",
            "Epoch 14/15\n",
            "1631/1631 [==============================] - ETA: 0s - loss: 0.0784 - accuracy: 0.9069\n",
            "Epoch 14: val_loss did not improve from 0.18446\n",
            "1631/1631 [==============================] - 165s 101ms/step - loss: 0.0784 - accuracy: 0.9069 - val_loss: 0.1889 - val_accuracy: 0.7765 - lr: 1.0000e-06\n",
            "Epoch 15/15\n",
            "1631/1631 [==============================] - ETA: 0s - loss: 0.0781 - accuracy: 0.9078\n",
            "Epoch 15: val_loss did not improve from 0.18446\n",
            "1631/1631 [==============================] - 165s 101ms/step - loss: 0.0781 - accuracy: 0.9078 - val_loss: 0.1909 - val_accuracy: 0.7714 - lr: 1.0000e-06\n"
          ]
        }
      ],
      "source": [
        "EPOCHS = 15\n",
        "\n",
        "optimizer = math_vision_fine_tune.optimizer\n",
        "# Print the current learning rate\n",
        "print(f\"Current learning rate: {tf.keras.backend.get_value(optimizer.learning_rate)}\")\n",
        "\n",
        "# Set a new learning rate\n",
        "new_learning_rate = 0.00001\n",
        "tf.keras.backend.set_value(optimizer.learning_rate, new_learning_rate)\n",
        "\n",
        "# Train the model\n",
        "fine_tune_history = math_vision_fine_tune.fit(\n",
        "    fine_train_generator,\n",
        "    validation_data=fine_validation_generator,\n",
        "    steps_per_epoch = fine_train_generator.samples // fine_train_generator.batch_size,\n",
        "    validation_steps= 0.75*fine_validation_generator.samples // fine_validation_generator.batch_size,\n",
        "    epochs=EPOCHS,\n",
        "    verbose=1,\n",
        "    workers=24,\n",
        "    callbacks=[checkpoint, early_stopping, custom_early_stopping, training_history, reduce_lr]\n",
        ")"
      ]
    },
    {
      "cell_type": "markdown",
      "metadata": {},
      "source": [
        "Let's plot this now."
      ]
    },
    {
      "cell_type": "code",
      "execution_count": 1194,
      "metadata": {},
      "outputs": [
        {
          "data": {
            "image/png": "[encoded data removed]",
            "text/plain": [
              "<Figure size 1200x400 with 2 Axes>"
            ]
          },
          "metadata": {},
          "output_type": "display_data"
        }
      ],
      "source": [
        "plot_training_history(fine_tune_history.history)"
      ]
    },
    {
      "cell_type": "markdown",
      "metadata": {},
      "source": [
        "Let's save our tuned model."
      ]
    },
    {
      "cell_type": "code",
      "execution_count": 34,
      "metadata": {},
      "outputs": [],
      "source": [
        "fine_math_vision_save_path = 'models/math-vision-post-tuning-resnet.h5'"
      ]
    },
    {
      "cell_type": "code",
      "execution_count": 1195,
      "metadata": {},
      "outputs": [],
      "source": [
        "\n",
        "math_vision_fine_tune.save(fine_math_vision_save_path)"
      ]
    },
    {
      "cell_type": "code",
      "execution_count": 35,
      "metadata": {},
      "outputs": [],
      "source": [
        "math_vision_fine_tune = load_model(fine_math_vision_save_path, custom_objects={'focal_loss_fixed': focal_loss(gamma=2, alpha=0.25)})"
      ]
    },
    {
      "cell_type": "markdown",
      "metadata": {
        "id": "_08N2w_YWPoU"
      },
      "source": [
        "Here's the path to both of them:"
      ]
    },
    {
      "cell_type": "code",
      "execution_count": 60,
      "metadata": {
        "id": "xXXd4AffWR7M"
      },
      "outputs": [
        {
          "name": "stdout",
          "output_type": "stream",
          "text": [
            "Math Vision model saved to: models/math-vision-resnet_model.h5\n",
            "Tuned Math Vision model saved to: models/math-vision-post-tuning-resnet.h5\n"
          ]
        }
      ],
      "source": [
        "print(f\"Math Vision model saved to: {math_vision_save_path}\")\n",
        "print(f\"Tuned Math Vision model saved to: {fine_math_vision_save_path}\")"
      ]
    },
    {
      "cell_type": "markdown",
      "metadata": {
        "id": "rlDu8h_j9x9H"
      },
      "source": [
        "# Testing our model"
      ]
    },
    {
      "cell_type": "markdown",
      "metadata": {
        "id": "qkLQL4usSsb6"
      },
      "source": [
        "We will now test our model."
      ]
    },
    {
      "cell_type": "code",
      "execution_count": 36,
      "metadata": {
        "id": "BMI-lwdC90li"
      },
      "outputs": [],
      "source": [
        "TEST_DIR = 'images/test'\n",
        "LABELS_CSV = os.path.join(TEST_DIR, \"english.csv\")\n",
        "RESNET_MODEL_PATH = math_vision_save_path\n",
        "TUNED_RESNET_MODEL_PATH = fine_math_vision_save_path\n",
        "NUM_CLASSES = num_classes\n",
        "\n",
        "SIZE = TARGET_SIZE\n",
        "\n",
        "num_to_char = {v: k for k, v in char_to_num.items()}"
      ]
    },
    {
      "cell_type": "markdown",
      "metadata": {},
      "source": [
        "Function to convert Labels.\n"
      ]
    },
    {
      "cell_type": "code",
      "execution_count": 37,
      "metadata": {},
      "outputs": [],
      "source": [
        "def convert_label(label):\n",
        "    spec_char = {\n",
        "    '+': 'add',\n",
        "    '-': 'sub',\n",
        "    '=': 'eq',\n",
        "    '÷': 'div',\n",
        "    '*': 'mul',\n",
        "    '(': 'open_curve',\n",
        "    ')': 'close_curve',\n",
        "    '\\\\': 'fwd_slash',\n",
        "    '/': 'back_slash',\n",
        "    ':': 'col',\n",
        "    ';': 'sem',\n",
        "    '%': 'percent',\n",
        "    '|': 'mod',\n",
        "    '[': 'open_sqaure',\n",
        "    ']': 'close_sqaure',\n",
        "    '<': 'open_sharp',\n",
        "    '>': 'close_sharp',\n",
        "    ',': 'com',\n",
        "    '.': 'dot',\n",
        "    '^': 'power',\n",
        "    }\n",
        "    \n",
        "    #spec_char = {v:k for (k, v) in spec_char.items()}\n",
        "    \n",
        "    if label.islower():\n",
        "        return f\"{label}_small\"\n",
        "    elif label.isupper():\n",
        "        return f\"{label}_cap\"\n",
        "    elif label in spec_char:\n",
        "        return spec_char[f'{label}']\n",
        "    else:\n",
        "        return label\n",
        "\n",
        "def load_labels_as_dict(csv_path):\n",
        "    df = pd.read_csv(csv_path)\n",
        "    df['label'] = df['label'].apply(convert_label)\n",
        "    labels_dict = {os.path.basename(row['image']).strip().lower(): row['label']\n",
        "                   for _, row in df.iterrows()}\n",
        "    return labels_dict"
      ]
    },
    {
      "cell_type": "markdown",
      "metadata": {},
      "source": [
        "Load Models"
      ]
    },
    {
      "cell_type": "code",
      "execution_count": 38,
      "metadata": {},
      "outputs": [],
      "source": [
        "# Load models\n",
        "resnet_math_vision = load_model(RESNET_MODEL_PATH, custom_objects={'focal_loss_fixed': focal_loss(gamma=2, alpha=.25)})\n",
        "tuned_resnet_math_vision = load_model(TUNED_RESNET_MODEL_PATH, custom_objects={'focal_loss_fixed': focal_loss(gamma=2, alpha=.25)})"
      ]
    },
    {
      "cell_type": "markdown",
      "metadata": {},
      "source": [
        "Load and Preprocess Images"
      ]
    },
    {
      "cell_type": "code",
      "execution_count": 39,
      "metadata": {},
      "outputs": [],
      "source": [
        "def load_and_preprocess_image(img_path):\n",
        "    img = load_img(img_path, target_size=SIZE).convert('L')\n",
        "    img_array = img_to_array(img)\n",
        "    img_array = np.expand_dims(img_array, axis=0)\n",
        "    img_array /= 255.0  # Normalize to [0, 1]\n",
        "    return img_array"
      ]
    },
    {
      "cell_type": "markdown",
      "metadata": {},
      "source": [
        "Compare Predictions"
      ]
    },
    {
      "cell_type": "code",
      "execution_count": 48,
      "metadata": {},
      "outputs": [
        {
          "name": "stdout",
          "output_type": "stream",
          "text": [
            "1/1 [==============================] - 0s 21ms/step\n",
            "1/1 [==============================] - 0s 21ms/step\n"
          ]
        },
        {
          "data": {
            "image/png": "[encoded data removed]",
            "text/plain": [
              "<Figure size 1500x500 with 3 Axes>"
            ]
          },
          "metadata": {},
          "output_type": "display_data"
        },
        {
          "name": "stdout",
          "output_type": "stream",
          "text": [
            "1/1 [==============================] - 0s 27ms/step\n",
            "1/1 [==============================] - 0s 28ms/step\n"
          ]
        },
        {
          "data": {
            "image/png": "[encoded data removed]",
            "text/plain": [
              "<Figure size 1500x500 with 3 Axes>"
            ]
          },
          "metadata": {},
          "output_type": "display_data"
        },
        {
          "name": "stdout",
          "output_type": "stream",
          "text": [
            "1/1 [==============================] - 0s 23ms/step\n",
            "1/1 [==============================] - 0s 20ms/step\n"
          ]
        },
        {
          "data": {
            "image/png": "[encoded data removed]",
            "text/plain": [
              "<Figure size 1500x500 with 3 Axes>"
            ]
          },
          "metadata": {},
          "output_type": "display_data"
        },
        {
          "name": "stdout",
          "output_type": "stream",
          "text": [
            "1/1 [==============================] - 0s 21ms/step\n",
            "1/1 [==============================] - 0s 27ms/step\n"
          ]
        },
        {
          "data": {
            "image/png": "[encoded data removed]",
            "text/plain": [
              "<Figure size 1500x500 with 3 Axes>"
            ]
          },
          "metadata": {},
          "output_type": "display_data"
        },
        {
          "name": "stdout",
          "output_type": "stream",
          "text": [
            "1/1 [==============================] - 0s 21ms/step\n",
            "1/1 [==============================] - 0s 21ms/step\n"
          ]
        },
        {
          "data": {
            "image/png": "[encoded data removed]",
            "text/plain": [
              "<Figure size 1500x500 with 3 Axes>"
            ]
          },
          "metadata": {},
          "output_type": "display_data"
        },
        {
          "name": "stdout",
          "output_type": "stream",
          "text": [
            "1/1 [==============================] - 0s 23ms/step\n",
            "1/1 [==============================] - 0s 21ms/step\n"
          ]
        },
        {
          "data": {
            "image/png": "[encoded data removed]",
            "text/plain": [
              "<Figure size 1500x500 with 3 Axes>"
            ]
          },
          "metadata": {},
          "output_type": "display_data"
        },
        {
          "name": "stdout",
          "output_type": "stream",
          "text": [
            "1/1 [==============================] - 0s 23ms/step\n",
            "1/1 [==============================] - 0s 20ms/step\n"
          ]
        },
        {
          "data": {
            "image/png": "[encoded data removed]",
            "text/plain": [
              "<Figure size 1500x500 with 3 Axes>"
            ]
          },
          "metadata": {},
          "output_type": "display_data"
        },
        {
          "name": "stdout",
          "output_type": "stream",
          "text": [
            "1/1 [==============================] - 0s 29ms/step\n",
            "1/1 [==============================] - 0s 22ms/step\n"
          ]
        },
        {
          "data": {
            "image/png": "[encoded data removed]",
            "text/plain": [
              "<Figure size 1500x500 with 3 Axes>"
            ]
          },
          "metadata": {},
          "output_type": "display_data"
        },
        {
          "name": "stdout",
          "output_type": "stream",
          "text": [
            "1/1 [==============================] - 0s 20ms/step\n",
            "1/1 [==============================] - 0s 22ms/step\n"
          ]
        },
        {
          "data": {
            "image/png": "[encoded data removed]",
            "text/plain": [
              "<Figure size 1500x500 with 3 Axes>"
            ]
          },
          "metadata": {},
          "output_type": "display_data"
        },
        {
          "name": "stdout",
          "output_type": "stream",
          "text": [
            "1/1 [==============================] - 0s 19ms/step\n",
            "1/1 [==============================] - 0s 22ms/step\n"
          ]
        },
        {
          "data": {
            "image/png": "[encoded data removed]",
            "text/plain": [
              "<Figure size 1500x500 with 3 Axes>"
            ]
          },
          "metadata": {},
          "output_type": "display_data"
        }
      ],
      "source": [
        "from PIL import UnidentifiedImageError\n",
        "def compare_models(models, test_dir, labels_dict, num_samples=10):\n",
        "    all_images = [f for f in os.listdir(test_dir) if f.endswith('.png')]\n",
        "    available_samples = len(all_images)\n",
        "    \n",
        "    # Adjust the number of samples if necessary\n",
        "    if num_samples > available_samples:\n",
        "        print(f\"Requested {num_samples} samples, but only {available_samples} are available. Adjusting to {available_samples} samples.\")\n",
        "        num_samples = available_samples\n",
        "    \n",
        "    selected_images = random.sample(all_images, num_samples)\n",
        "    \n",
        "    model_names = list(models.keys())\n",
        "    results = {model_name: {'correct': 0, 'incorrect': 0} for model_name in model_names}\n",
        "    \n",
        "    for img_name in selected_images:\n",
        "        img_path = os.path.join(test_dir, img_name)\n",
        "        try:\n",
        "            img_array = load_and_preprocess_image(img_path)\n",
        "            img_key = img_name.strip().lower()\n",
        "            if img_key not in labels_dict:\n",
        "                print(f\"No label found for image: {img_name}\")\n",
        "                continue\n",
        "            actual_label = labels_dict[img_key]\n",
        "        except (UnidentifiedImageError, IndexError, PermissionError) as e:\n",
        "            print(f\"Skipping file {img_name} due to error: {e}\")\n",
        "            continue\n",
        "        \n",
        "        plt.figure(figsize=(15, 5))\n",
        "        plt.subplot(1, len(models) + 1, 1)\n",
        "        plt.imshow(load_img(img_path))\n",
        "        plt.title(f\"Actual: {actual_label}\")\n",
        "        plt.axis('off')\n",
        "        \n",
        "        for i, (model_name, model) in enumerate(models.items(), 2):\n",
        "            prediction = model.predict(img_array)\n",
        "            predicted_label_index = np.argmax(prediction, axis=1)[0]\n",
        "            predicted_label = list(char_to_num.keys())[list(char_to_num.values()).index(predicted_label_index)]\n",
        "            predicted_label = convert_label(predicted_label)\n",
        "            \n",
        "            plt.subplot(1, len(models) + 1, i)\n",
        "            plt.imshow(load_img(img_path))\n",
        "            plt.title(f\"{model_name}: {ascii_convert(int(predicted_label))}\")\n",
        "            plt.axis('off')\n",
        "            \n",
        "            if predicted_label == actual_label:\n",
        "                results[model_name]['correct'] += 1\n",
        "            else:\n",
        "                results[model_name]['incorrect'] += 1\n",
        "        \n",
        "        plt.show()\n",
        "    \n",
        "    return results\n",
        "\n",
        "# Load labels\n",
        "labels_dict = load_labels_as_dict(LABELS_CSV)\n",
        "\n",
        "#print(\"\\n\",labels_dict)\n",
        "\n",
        "# Compare models\n",
        "models = {\n",
        "    'math_vision': resnet_math_vision,\n",
        "    'math_vision_tuned': tuned_resnet_math_vision,\n",
        "    \n",
        "}\n",
        "\n",
        "results = compare_models(models, TEST_DIR, labels_dict, num_samples=10)"
      ]
    },
    {
      "cell_type": "markdown",
      "metadata": {},
      "source": [
        "You can test on any image file that you like inside this dir ''images/test/Img''"
      ]
    },
    {
      "cell_type": "code",
      "execution_count": 63,
      "metadata": {},
      "outputs": [
        {
          "name": "stdout",
          "output_type": "stream",
          "text": [
            "1/1 [==============================] - 0s 23ms/step\n",
            "# #.png\n",
            "1/1 [==============================] - 0s 22ms/step\n",
            "f $.png\n",
            "1/1 [==============================] - 0s 24ms/step\n",
            "* %.png\n",
            "1/1 [==============================] - 0s 24ms/step\n",
            "q &.png\n",
            "1/1 [==============================] - 0s 21ms/step\n",
            "( (.png\n",
            "1/1 [==============================] - 0s 22ms/step\n",
            ") ).png\n",
            "1/1 [==============================] - 0s 20ms/step\n",
            "= +.png\n",
            "1/1 [==============================] - 0s 23ms/step\n",
            "; ,.png\n",
            "1/1 [==============================] - 0s 21ms/step\n",
            ", 0.png\n",
            "1/1 [==============================] - 0s 21ms/step\n",
            "1 1.png\n",
            "1/1 [==============================] - 0s 23ms/step\n",
            "z 2.png\n",
            "1/1 [==============================] - 0s 24ms/step\n",
            "} 3.png\n",
            "1/1 [==============================] - 0s 23ms/step\n",
            "4 4.png\n",
            "1/1 [==============================] - 0s 22ms/step\n",
            "4 42.png\n",
            "1/1 [==============================] - 0s 20ms/step\n",
            "5 5.png\n",
            "1/1 [==============================] - 0s 23ms/step\n",
            "G 6.png\n",
            "1/1 [==============================] - 0s 22ms/step\n",
            "7 7.png\n",
            "1/1 [==============================] - 0s 31ms/step\n",
            "7 72.png\n",
            "1/1 [==============================] - 0s 22ms/step\n",
            "& 8.png\n",
            "1/1 [==============================] - 0s 21ms/step\n",
            "q 9.png\n",
            "1/1 [==============================] - 0s 22ms/step\n",
            "! 92.png\n",
            "1/1 [==============================] - 0s 24ms/step\n",
            "; ;.png\n",
            "1/1 [==============================] - 0s 22ms/step\n",
            "@ @.png\n",
            "1/1 [==============================] - 0s 23ms/step\n",
            "A a.png\n",
            "1/1 [==============================] - 0s 22ms/step\n",
            "* ast.png\n",
            "1/1 [==============================] - 0s 23ms/step\n",
            "? b.png\n",
            "1/1 [==============================] - 0s 22ms/step\n",
            "( c.png\n",
            "1/1 [==============================] - 0s 24ms/step\n",
            ". croc.png\n",
            "1/1 [==============================] - 0s 21ms/step\n",
            "D d.png\n",
            "1/1 [==============================] - 0s 23ms/step\n",
            "/ div.png\n",
            "1/1 [==============================] - 0s 22ms/step\n",
            "E e.png\n",
            "1/1 [==============================] - 0s 26ms/step\n",
            "! ex.jpg\n",
            "1/1 [==============================] - 0s 28ms/step\n",
            "F f.png\n",
            "1/1 [==============================] - 0s 22ms/step\n",
            "G g.png\n",
            "1/1 [==============================] - 0s 21ms/step\n",
            "H h.png\n",
            "1/1 [==============================] - 0s 21ms/step\n",
            "I i.png\n",
            "1/1 [==============================] - 0s 22ms/step\n",
            "J j.png\n",
            "1/1 [==============================] - 0s 23ms/step\n",
            "K k.png\n",
            "1/1 [==============================] - 0s 21ms/step\n",
            "L l.png\n",
            "1/1 [==============================] - 0s 21ms/step\n",
            "M m.png\n",
            "1/1 [==============================] - 0s 26ms/step\n",
            "- minus.png\n",
            "1/1 [==============================] - 0s 23ms/step\n",
            "N n.png\n",
            "1/1 [==============================] - 0s 22ms/step\n",
            ". o.png\n",
            "1/1 [==============================] - 0s 22ms/step\n",
            "? othercroc.png\n",
            "1/1 [==============================] - 0s 19ms/step\n",
            "? p.png\n",
            "1/1 [==============================] - 0s 23ms/step\n",
            "+ plu.jpg\n",
            "1/1 [==============================] - 0s 24ms/step\n",
            "Q q.png\n",
            "1/1 [==============================] - 0s 22ms/step\n",
            "? ques.png\n",
            "1/1 [==============================] - 0s 22ms/step\n",
            "R r.png\n",
            "1/1 [==============================] - 0s 24ms/step\n",
            "$ s.png\n",
            "1/1 [==============================] - 0s 23ms/step\n",
            ", smallb.png\n",
            "1/1 [==============================] - 0s 22ms/step\n",
            "- smola.png\n",
            "1/1 [==============================] - 0s 22ms/step\n",
            ": smolc.png\n",
            "1/1 [==============================] - 0s 21ms/step\n",
            "i smold.png\n",
            "1/1 [==============================] - 0s 22ms/step\n",
            "T t.png\n",
            "1/1 [==============================] - 0s 25ms/step\n",
            "U u.png\n",
            "1/1 [==============================] - 0s 25ms/step\n",
            "Y v.png\n",
            "1/1 [==============================] - 0s 23ms/step\n",
            "X x.png\n",
            "1/1 [==============================] - 0s 19ms/step\n",
            "Y y.png\n",
            "1/1 [==============================] - 0s 23ms/step\n",
            "= z.png\n",
            "1/1 [==============================] - 0s 23ms/step\n",
            "L [.png\n",
            "1/1 [==============================] - 0s 23ms/step\n",
            "J ].png\n",
            "1/1 [==============================] - 0s 26ms/step\n",
            ". ^.png\n",
            "1/1 [==============================] - 0s 21ms/step\n",
            "t {.png\n",
            "1/1 [==============================] - 0s 23ms/step\n",
            "} }.png\n",
            "1/1 [==============================] - 0s 24ms/step\n",
            "- ~.png\n"
          ]
        }
      ],
      "source": [
        "for img in os.listdir('images/test/Img/'):\n",
        "    image = load_and_preprocess_image(os.path.join('images/test/Img/',img))\n",
        "    prediction = tuned_resnet_math_vision.predict(image)\n",
        "    predicted_label_index = np.argmax(prediction, axis=1)[0]\n",
        "    predicted_label = list(char_to_num.keys())[list(char_to_num.values()).index(predicted_label_index)]\n",
        "    predicted_label = convert_label(predicted_label)\n",
        "    print(ascii_convert(int(predicted_label)), img)"
      ]
    }
  ],
  "metadata": {
    "accelerator": "GPU",
    "colab": {
      "gpuType": "L4",
      "machine_shape": "hm",
      "provenance": [],
      "toc_visible": true
    },
    "kernelspec": {
      "display_name": "Python 3",
      "name": "python3"
    },
    "language_info": {
      "codemirror_mode": {
        "name": "ipython",
        "version": 3
      },
      "file_extension": ".py",
      "mimetype": "text/x-python",
      "name": "python",
      "nbconvert_exporter": "python",
      "pygments_lexer": "ipython3",
      "version": "3.9.19"
    }
  },
  "nbformat": 4,
  "nbformat_minor": 0
}
