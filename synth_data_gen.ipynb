{
  "cells": [
    {
      "cell_type": "markdown",
      "metadata": {
        "id": "ia2daMn77sH2"
      },
      "source": [
        "Importing required modules"
      ]
    },
    {
      "cell_type": "code",
      "execution_count": null,
      "metadata": {
        "id": "6LmdnPZ17nfl"
      },
      "outputs": [],
      "source": [
        "import cv2\n",
        "import numpy as np\n",
        "from PIL import Image, ImageDraw, ImageFont, ImageEnhance\n",
        "import concurrent.futures\n",
        "import random\n",
        "import os\n",
        "import csv"
      ]
    },
    {
      "cell_type": "markdown",
      "metadata": {
        "id": "bnWDEsLs7x_4"
      },
      "source": [
        "Defining a simple function that distorts and clips the image"
      ]
    },
    {
      "cell_type": "code",
      "execution_count": null,
      "metadata": {
        "id": "wjJsevwF8Ccl"
      },
      "outputs": [],
      "source": [
        "def random_clip_and_distort(image, fraction=0.6):\n",
        "    \"\"\"\n",
        "    Randomly clips and distorts the given image.\n",
        "\n",
        "    Args:\n",
        "        image (numpy.ndarray): The input image to be clipped and distorted.\n",
        "        fraction (float64): The input image to be clipped by this multiplier\n",
        "    Returns:\n",
        "        numpy.ndarray: The clipped and distorted image.\n",
        "    \"\"\"\n",
        "\n",
        "    h, w = image.shape[:2]\n",
        "\n",
        "    # Points for the original image\n",
        "    pts1 = np.float32([[0, 0], [w, 0], [0, h]])\n",
        "\n",
        "    # Points for the distorted image\n",
        "    pts2 = np.float32([[random.randint(0, w // 4), random.randint(0, h // 4)],\n",
        "                       [random.randint(3 * w // 4, w), random.randint(0, h // 4)],\n",
        "                       [random.randint(0, w // 4), random.randint(3 * h // 4, h)]])\n",
        "\n",
        "    # Calculate the transformation matrix\n",
        "    matrix = cv2.getAffineTransform(pts1, pts2)\n",
        "\n",
        "    # Apply the distortion\n",
        "    distorted_image = cv2.warpAffine(image, matrix, (w, h))\n",
        "\n",
        "    # Calculate the inverse of the transformation matrix\n",
        "    inv_matrix = cv2.invertAffineTransform(matrix)\n",
        "\n",
        "    # Calculate the clipping coordinates in the distorted image\n",
        "    startx = random.randint(0, int(w * (1 - fraction)))\n",
        "    starty = random.randint(0, int(h * (1 - fraction)))\n",
        "    endx = startx + int(w * fraction)\n",
        "    endy = starty + int(h * fraction)\n",
        "\n",
        "    # Ensure the clipping coordinates are within the image bounds\n",
        "    startx = max(0, startx)\n",
        "    starty = max(0, starty)\n",
        "    endx = min(w, endx)\n",
        "    endy = min(h, endy)\n",
        "\n",
        "    # Clip the distorted image\n",
        "    clipped_img = distorted_image[starty:endy, startx:endx]\n",
        "\n",
        "    # Resize back to original size\n",
        "    clipped_img = cv2.resize(clipped_img, (w, h))\n",
        "\n",
        "    return clipped_img\n"
      ]
    },
    {
      "cell_type": "markdown",
      "metadata": {
        "id": "l_rz5v458GMO"
      },
      "source": [
        "Now we will work on our image generator"
      ]
    },
    {
      "cell_type": "code",
      "execution_count": null,
      "metadata": {
        "id": "SoQClzHH8FSW"
      },
      "outputs": [],
      "source": [
        "def generate_synth_img(text, background_image, path, filename, fonts):\n",
        "    \"\"\"\n",
        "    Generates a synthetic image with the given text and background image.\n",
        "\n",
        "    Args:\n",
        "        text (str): The text to be drawn on the image.\n",
        "        background_image (str): Path to the background image.\n",
        "        path (str): Directory where the generated image will be saved.\n",
        "        filename (str): Name of the generated image file.\n",
        "        fonts (list): List of font file paths to randomly select from.\n",
        "    \"\"\"\n",
        "\n",
        "    # Loading and applying clip & distortion to image\n",
        "    bg = cv2.imread(background_image)\n",
        "    bg = random_clip_and_distort(bg)\n",
        "    bg = cv2.cvtColor(bg, cv2.COLOR_BGR2RGB)\n",
        "    bg_pil = Image.fromarray(bg)\n",
        "    bg_pil = bg_pil.resize((256, 256))\n",
        "\n",
        "    # Randomly adjust brightness and contrast\n",
        "    enhancer = ImageEnhance.Brightness(bg_pil)\n",
        "    bg_pil = enhancer.enhance(random.uniform(0.95, 1.05))\n",
        "    enhancer = ImageEnhance.Contrast(bg_pil)\n",
        "    bg_pil = enhancer.enhance(random.uniform(1, 1.2))\n",
        "\n",
        "    # Choosing font and font size\n",
        "    font_path = random.choice(fonts)\n",
        "    font_size = int(random.uniform(35, 60))\n",
        "    font = ImageFont.truetype(font_path, font_size)\n",
        "\n",
        "    # Draw text on the background\n",
        "    draw = ImageDraw.Draw(bg_pil)\n",
        "    text_bbox = draw.textbbox((0, 0), text, font=font)\n",
        "    text_width, text_height = text_bbox[2] - text_bbox[0], text_bbox[3] - text_bbox[1]\n",
        "\n",
        "    # Ensure the text fits within the image dimensions\n",
        "    max_attempts = 10\n",
        "    for _ in range(max_attempts):\n",
        "        if text_width <= bg_pil.width and text_height <= bg_pil.height:\n",
        "            break\n",
        "        font_size -= 2  # Decrease font size if text doesn't fit\n",
        "        font = ImageFont.truetype(font_path, font_size)\n",
        "        text_bbox = draw.textbbox((0, 0), text, font=font)\n",
        "        text_width, text_height = text_bbox[2] - text_bbox[0], text_bbox[3] - text_bbox[1]\n",
        "\n",
        "\n",
        "    # Random position\n",
        "    x = random.randint(0, max(0, bg_pil.width - text_width))\n",
        "    y = random.randint(0, max(0, bg_pil.height - text_height))\n",
        "\n",
        "    # Choosing random text color\n",
        "    text_color = tuple(np.random.randint(0, 256, size=3))\n",
        "    draw.text((x, y), text, font=font, fill=text_color)\n",
        "\n",
        "    # Converting to numpy array\n",
        "    img = np.array(bg_pil)\n",
        "\n",
        "    # Add random noise\n",
        "    noise = np.random.normal(0, 0.5, img.shape).astype(np.uint8)\n",
        "    img = cv2.add(img, noise)\n",
        "\n",
        "    if not os.path.exists(path):\n",
        "        os.makedirs(path)\n",
        "\n",
        "    # Saving image\n",
        "    cv2.imwrite(os.path.join(path, filename), cv2.cvtColor(img, cv2.COLOR_RGB2BGR))\n"
      ]
    },
    {
      "cell_type": "markdown",
      "metadata": {
        "id": "F-QqhizS8Pcw"
      },
      "source": [
        "We need a software that lists ttf and jpgs from the dir"
      ]
    },
    {
      "cell_type": "code",
      "execution_count": null,
      "metadata": {
        "id": "TXet-wBE8V2i"
      },
      "outputs": [],
      "source": [
        "def list_ttf_jpg(dir1, dir2):\n",
        "    \"\"\"\n",
        "    Lists all .ttf files in the given font directory and .jpg files in the given background image directory.\n",
        "\n",
        "    Args:\n",
        "        dir1 (str): Directory containing font files.\n",
        "        dir2 (str): Directory containing background images.\n",
        "\n",
        "    Returns:\n",
        "        tuple: A tuple containing two lists - list of font file paths and list of background image paths.\n",
        "    \"\"\"\n",
        "\n",
        "    # For ttf files\n",
        "    ttf_files = []\n",
        "    for filename in os.listdir(dir1):\n",
        "        if filename.endswith('.ttf'):\n",
        "            ttf_files.append(os.path.join(dir1, filename))\n",
        "\n",
        "    # For bg images\n",
        "    bg_images = []\n",
        "    for filename in os.listdir(dir2):\n",
        "        if filename.endswith('.jpg'):\n",
        "            bg_images.append(os.path.join(dir2, filename))\n",
        "\n",
        "    return (ttf_files, bg_images)"
      ]
    },
    {
      "cell_type": "markdown",
      "metadata": {
        "id": "gpc0JVUXAAf5"
      },
      "source": [
        "Launches generator and saves it"
      ]
    },
    {
      "cell_type": "code",
      "execution_count": null,
      "metadata": {
        "id": "-I8DZRbB_-YJ"
      },
      "outputs": [],
      "source": [
        "def generate_and_save_image(i, characters, fonts, bg, path):\n",
        "    text = ''.join(random.choices(characters, k=5))\n",
        "    bg_img = random.choice(bg)\n",
        "    filename = f'{i}.png'\n",
        "    generate_synth_img(text=text, background_image=bg_img, path=path, filename=filename, fonts=fonts)\n",
        "    print(f\"{50000-i} images to be generated\")\n",
        "    return (filename, text)"
      ]
    },
    {
      "cell_type": "markdown",
      "metadata": {
        "id": "9Jw8r3Qj8Xri"
      },
      "source": [
        "Now we are all set, just need to initate everything"
      ]
    },
    {
      "cell_type": "code",
      "execution_count": null,
      "metadata": {
        "colab": {
          "background_save": true
        },
        "collapsed": true,
        "id": "z0X1w2QC8Uk1"
      },
      "outputs": [],
      "source": [
        "def initiator(path=\"images/train/synth_data\", font_dir='fonts/', bg_dir='bg/', characters='0123456789ABCDEFGHIJKLMNOPQRSTUVWXYZabcdefghijklmnopqrstuvwxyz+-*/÷', seed=69, n=50000):\n",
        "    \"\"\"\n",
        "    Initializes the synthetic image generation process.\n",
        "\n",
        "    Args:\n",
        "        path (str, optional): Directory where the generated images will be saved. Defaults to \"images/train/synth_data\".\n",
        "        characters (str, optional): String of characters to be used for generating text. Defaults to '0123456789ABCDEFGHIJKLMNOPQRSTUVWXYZabcdefghijklmnopqrstuvwxyz+-*/÷'.\n",
        "        seed (int, optional): Random seed for reproducibility. Defaults to 69.\n",
        "        font_dir (str, optional): Directory containing font files. Defaults to 'fonts/'.\n",
        "        bg_dir (str, optional): Directory containing background images. Defaults to 'bg/'.\n",
        "        n (int, optional): Number of synthetic images to generate. Defaults to 1000.\n",
        "    \"\"\"\n",
        "    # Making randomness less chaotic (only for testing)\n",
        "    # random.seed(seed)\n",
        "\n",
        "    fonts, bg = list_ttf_jpg(font_dir, bg_dir)\n",
        "\n",
        "    labels = []\n",
        "    with concurrent.futures.ProcessPoolExecutor() as executor:\n",
        "        futures = [executor.submit(generate_and_save_image, i, characters, fonts, bg, path) for i in range(n)]\n",
        "        for future in concurrent.futures.as_completed(futures):\n",
        "            labels.append(future.result())\n",
        "\n",
        "    with open(os.path.join(path, 'labels.csv'), 'w', newline='') as csvfile:\n",
        "        labelwriter = csv.writer(csvfile)\n",
        "        labelwriter.writerow(['filename', 'label'])\n",
        "        labelwriter.writerows(labels)\n",
        "\n",
        "\n",
        "# For generating images (needs to be executed once for gathering training data)\n",
        "if __name__ == \"__main__\":\n",
        "    initiator()"
      ]
    },
    {
      "cell_type": "code",
      "execution_count": null,
      "metadata": {
        "id": "MeZ-ZOSE-4O5"
      },
      "outputs": [],
      "source": [
        "!zip -r /content/images.zip /content/images"
      ]
    },
    {
      "cell_type": "code",
      "execution_count": null,
      "metadata": {
        "id": "SWoFpscq-mPX"
      },
      "outputs": [],
      "source": [
        "from google.colab import files\n",
        "files.download('/content/images.zip')"
      ]
    }
  ],
  "metadata": {
    "accelerator": "GPU",
    "colab": {
      "gpuType": "T4",
      "machine_shape": "hm",
      "provenance": []
    },
    "kernelspec": {
      "display_name": "Python 3",
      "name": "python3"
    },
    "language_info": {
      "name": "python"
    }
  },
  "nbformat": 4,
  "nbformat_minor": 0
}